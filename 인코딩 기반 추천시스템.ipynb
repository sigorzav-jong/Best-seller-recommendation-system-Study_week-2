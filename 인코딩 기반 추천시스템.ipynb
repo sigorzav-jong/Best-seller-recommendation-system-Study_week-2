{
 "cells": [
  {
   "cell_type": "code",
   "execution_count": 37,
   "id": "6fc2d1cc",
   "metadata": {},
   "outputs": [],
   "source": [
    "import pandas as pd\n",
    "import numpy as np\n",
    "import warnings\n",
    "warnings.filterwarnings('ignore')\n",
    "\n",
    "from ast import literal_eval\n",
    "from itertools import islice"
   ]
  },
  {
   "cell_type": "code",
   "execution_count": 2,
   "id": "db45ea1e",
   "metadata": {},
   "outputs": [],
   "source": [
    "path = 'C:/Users/82109/Desktop/deep daiv. 스터디/2주차'"
   ]
  },
  {
   "cell_type": "code",
   "execution_count": 211,
   "id": "7874ae5a",
   "metadata": {},
   "outputs": [],
   "source": [
    "베스트셀러 = pd.read_excel(path + \"/데이터 전처리/베스트셀러_최종2.xlsx\")"
   ]
  },
  {
   "cell_type": "code",
   "execution_count": 212,
   "id": "10d64a64",
   "metadata": {},
   "outputs": [
    {
     "data": {
      "text/html": [
       "<div>\n",
       "<style scoped>\n",
       "    .dataframe tbody tr th:only-of-type {\n",
       "        vertical-align: middle;\n",
       "    }\n",
       "\n",
       "    .dataframe tbody tr th {\n",
       "        vertical-align: top;\n",
       "    }\n",
       "\n",
       "    .dataframe thead th {\n",
       "        text-align: right;\n",
       "    }\n",
       "</style>\n",
       "<table border=\"1\" class=\"dataframe\">\n",
       "  <thead>\n",
       "    <tr style=\"text-align: right;\">\n",
       "      <th></th>\n",
       "      <th>상품명</th>\n",
       "      <th>책소개</th>\n",
       "      <th>키워드</th>\n",
       "      <th>책소개 키워드</th>\n",
       "      <th>책소개 전처리</th>\n",
       "      <th>책소개 키워드 수정본</th>\n",
       "    </tr>\n",
       "  </thead>\n",
       "  <tbody>\n",
       "    <tr>\n",
       "      <th>0</th>\n",
       "      <td>위기의 역사</td>\n",
       "      <td>40만 독자가 선택한 오건영의 글로벌 경제사 특강\\n누적 조회 수 550만 회 달성...</td>\n",
       "      <td>['금리', '모기지', '흥국', '저금리', '글로벌 금융 위기', '실리콘밸리...</td>\n",
       "      <td>{'조회', '선택', '부활', '오건', '금융위기', '달성', '소멸', '...</td>\n",
       "      <td>['40만 독자가 선택한 오건영의 글로벌 경제사 특강', '누적 조회 수 550만 ...</td>\n",
       "      <td>['부활', '인플레이션', '금융위기', '책', '경제위기', '소멸', '선택...</td>\n",
       "    </tr>\n",
       "    <tr>\n",
       "      <th>1</th>\n",
       "      <td>돈의 속성(300쇄 리커버에디션)</td>\n",
       "      <td>2020ㆍ2021ㆍ2022ㆍ2023 4년 연속 최장기 베스트셀러\\n80만 깨어있는 ...</td>\n",
       "      <td>['부자되는법', '종잣돈', '회장', '투자 원칙', '경제철학', '주식 시장...</td>\n",
       "      <td>{'연속', '일본', '상황', '선택', '최', '속성', '장기', '추가'...</td>\n",
       "      <td>['2020 2021 2022 2023 4년 연속 최장기 베스트셀러', '80만 깨...</td>\n",
       "      <td>['기념', '돈', '속성', '바뀐', '맞춰', '20', '경제', '경영'...</td>\n",
       "    </tr>\n",
       "    <tr>\n",
       "      <th>2</th>\n",
       "      <td>부자의 그릇</td>\n",
       "      <td>수많은 젊은 부자가 꼽은 최고의 ‘부자학 입문서’ 『부자의 그릇』 양장 개정판\\n“...</td>\n",
       "      <td>['부자되는법', '신용', '소설 형식', '배트', '경제이야기', '사업 아이...</td>\n",
       "      <td>{'채널', '로부터', '울림', '원리', '누구', '최고', '주먹밥', '...</td>\n",
       "      <td>['수많은 젊은 부자가 꼽은 최고의 부자학 입문서 부자의 그릇 양장 개정판', '당...</td>\n",
       "      <td>['돈', '부자', '통해', '흥미로운', '의장', '스', '테디', '셀러...</td>\n",
       "    </tr>\n",
       "    <tr>\n",
       "      <th>3</th>\n",
       "      <td>사장학개론</td>\n",
       "      <td>이 책은 과거와 현재,\\n미래의 모든 사장을 위한 실무 지침서다\\n이 책은 한국과 ...</td>\n",
       "      <td>['창업', '매출', '직원', '장학', '기업인', '사업', '경제경영']</td>\n",
       "      <td>{'의', '저자', '정리', '존재', '운영', '모든', '장학', '구',...</td>\n",
       "      <td>['이 책은 과거와 현재', '미래의 모든 사장을 위한 실무 지침서다', '이 책은...</td>\n",
       "      <td>['사장', '대한', '있는', '위', '가장', '되었다', '직원', '따라...</td>\n",
       "    </tr>\n",
       "    <tr>\n",
       "      <th>4</th>\n",
       "      <td>EBS 다큐프라임</td>\n",
       "      <td>우리가 반드시 알아야 할 자본주의의 진실!\\n『자본주의』는 자본주의를 쉽게 풀어낸 ...</td>\n",
       "      <td>['재테크', '경제학', '중앙은행', '케인스', '경제이론', '국부론', '...</td>\n",
       "      <td>{'능력', '반드시', '앞', '필수', '모든', '진실', '세계', '활용...</td>\n",
       "      <td>['우리가 반드시 알아야 할 자본주의의 진실', '자본주의 는 자본주의를 쉽게 풀어...</td>\n",
       "      <td>['자본주의', '있는', '그리고', '우리', '금융', '것', '오늘날', ...</td>\n",
       "    </tr>\n",
       "    <tr>\n",
       "      <th>...</th>\n",
       "      <td>...</td>\n",
       "      <td>...</td>\n",
       "      <td>...</td>\n",
       "      <td>...</td>\n",
       "      <td>...</td>\n",
       "      <td>...</td>\n",
       "    </tr>\n",
       "    <tr>\n",
       "      <th>3708</th>\n",
       "      <td>독서의 역사</td>\n",
       "      <td>“독서를 다룬 책 중 가장 빼어난 이야기”\\n언어의 파수꾼이자 책의 수호자, 세계 ...</td>\n",
       "      <td>['독서가', '움베르토 에코', '분서갱유', '지배 세력', '성서', '진시황...</td>\n",
       "      <td>{'인간', '저자', '룸', '뒤', '분석', '자기', '형태', '위협',...</td>\n",
       "      <td>['독서를 다룬 책 중 가장 빼어난 이야기', '언어의 파수꾼이자 책의 수호자 세계...</td>\n",
       "      <td>['책', '있다', '저자', '대해', '관련', '된', '책', '독서', ...</td>\n",
       "    </tr>\n",
       "    <tr>\n",
       "      <th>3709</th>\n",
       "      <td>표준</td>\n",
       "      <td>제4판 표준 중세 국어 문법론에서는 지난 10년 동안에 나온 중세어 관련 문법 업적...</td>\n",
       "      <td>['품사론', '형태론', '통사론', '표기법', '겹문장', '발음', '인문']</td>\n",
       "      <td>{'포함', '각주', '심화', '통해', '의미', '문법', '장', '표준'...</td>\n",
       "      <td>['제4판 표준 중세 국어 문법론에서는 지난 10년 동안에 나온 중세어 관련 문법 ...</td>\n",
       "      <td>['포함', '문법', '제', '3', '편', '국어', '지난', '다루었다'...</td>\n",
       "    </tr>\n",
       "    <tr>\n",
       "      <th>3710</th>\n",
       "      <td>삼국지연의보다 재미있는 정사 삼국지 1</td>\n",
       "      <td>20만 구독자가 열광한 화제의 유튜브 역사채널 〈써에이스쇼〉의 삼국지\\n누적 조회 ...</td>\n",
       "      <td>['판타지', '황건적', '유비', '컬러 삽화', '위촉', '실제 역사', '...</td>\n",
       "      <td>{'채널', '역사', '의', '저자', '돌파', '층', '총', '결의', ...</td>\n",
       "      <td>['20만 구독자가 열광한 화제의 유튜브 역사채널 써에이스쇼 의 삼국지', '누적 ...</td>\n",
       "      <td>['삼국지', '정사', '역사', '시작', '장의', '마니아', '층', '있...</td>\n",
       "    </tr>\n",
       "    <tr>\n",
       "      <th>3711</th>\n",
       "      <td>나도 손글씨 바르게 쓰면 소원이 없겠네(핸디 워크북)</td>\n",
       "      <td>아무때나 시간 날 때 틈틈이\\n지하철ㆍ학교ㆍ회사ㆍ카페ㆍ집 어느 장소에서도\\n편하게 ...</td>\n",
       "      <td>['악필', '교정', '원고지', '정자체', '스프링', '지하철', '인문']</td>\n",
       "      <td>{'크기', '노트', '글씨', '스프링', '문장', '원고지', '가득', '...</td>\n",
       "      <td>['아무때나 시간 날 때 틈틈이', '지하철 학교 회사 카페 집 어느 장소에서도',...</td>\n",
       "      <td>['물론', '연습', '4', '주', '동안', '나도', '꾸준히', '종이'...</td>\n",
       "    </tr>\n",
       "    <tr>\n",
       "      <th>3712</th>\n",
       "      <td>성격의 탄생</td>\n",
       "      <td>내 성격은 어떻게 만들어진 걸까?\\n왜 사람마다 성격이 다를까?\\n성격을 바꿀 수 ...</td>\n",
       "      <td>['과학', '외향성', '유전학', '친화성', '규명', '개인차', '인문']</td>\n",
       "      <td>{'인간', '저자', '존재', '사랑', '서로', '성실', '종합', '가치...</td>\n",
       "      <td>['내 성격은 어떻게 만들어진 걸까', '왜 사람마다 성격이 다를까', '성격을 바...</td>\n",
       "      <td>['성격', '사람', '저자', '어떻게', '무엇', '일까', '뇌', '과학...</td>\n",
       "    </tr>\n",
       "  </tbody>\n",
       "</table>\n",
       "<p>3713 rows × 6 columns</p>\n",
       "</div>"
      ],
      "text/plain": [
       "                                상품명  \\\n",
       "0                            위기의 역사   \n",
       "1                돈의 속성(300쇄 리커버에디션)   \n",
       "2                            부자의 그릇   \n",
       "3                             사장학개론   \n",
       "4                         EBS 다큐프라임   \n",
       "...                             ...   \n",
       "3708                         독서의 역사   \n",
       "3709                             표준   \n",
       "3710          삼국지연의보다 재미있는 정사 삼국지 1   \n",
       "3711  나도 손글씨 바르게 쓰면 소원이 없겠네(핸디 워크북)   \n",
       "3712                         성격의 탄생   \n",
       "\n",
       "                                                    책소개  \\\n",
       "0     40만 독자가 선택한 오건영의 글로벌 경제사 특강\\n누적 조회 수 550만 회 달성...   \n",
       "1     2020ㆍ2021ㆍ2022ㆍ2023 4년 연속 최장기 베스트셀러\\n80만 깨어있는 ...   \n",
       "2     수많은 젊은 부자가 꼽은 최고의 ‘부자학 입문서’ 『부자의 그릇』 양장 개정판\\n“...   \n",
       "3     이 책은 과거와 현재,\\n미래의 모든 사장을 위한 실무 지침서다\\n이 책은 한국과 ...   \n",
       "4     우리가 반드시 알아야 할 자본주의의 진실!\\n『자본주의』는 자본주의를 쉽게 풀어낸 ...   \n",
       "...                                                 ...   \n",
       "3708  “독서를 다룬 책 중 가장 빼어난 이야기”\\n언어의 파수꾼이자 책의 수호자, 세계 ...   \n",
       "3709  제4판 표준 중세 국어 문법론에서는 지난 10년 동안에 나온 중세어 관련 문법 업적...   \n",
       "3710  20만 구독자가 열광한 화제의 유튜브 역사채널 〈써에이스쇼〉의 삼국지\\n누적 조회 ...   \n",
       "3711  아무때나 시간 날 때 틈틈이\\n지하철ㆍ학교ㆍ회사ㆍ카페ㆍ집 어느 장소에서도\\n편하게 ...   \n",
       "3712  내 성격은 어떻게 만들어진 걸까?\\n왜 사람마다 성격이 다를까?\\n성격을 바꿀 수 ...   \n",
       "\n",
       "                                                    키워드  \\\n",
       "0     ['금리', '모기지', '흥국', '저금리', '글로벌 금융 위기', '실리콘밸리...   \n",
       "1     ['부자되는법', '종잣돈', '회장', '투자 원칙', '경제철학', '주식 시장...   \n",
       "2     ['부자되는법', '신용', '소설 형식', '배트', '경제이야기', '사업 아이...   \n",
       "3         ['창업', '매출', '직원', '장학', '기업인', '사업', '경제경영']   \n",
       "4     ['재테크', '경제학', '중앙은행', '케인스', '경제이론', '국부론', '...   \n",
       "...                                                 ...   \n",
       "3708  ['독서가', '움베르토 에코', '분서갱유', '지배 세력', '성서', '진시황...   \n",
       "3709    ['품사론', '형태론', '통사론', '표기법', '겹문장', '발음', '인문']   \n",
       "3710  ['판타지', '황건적', '유비', '컬러 삽화', '위촉', '실제 역사', '...   \n",
       "3711     ['악필', '교정', '원고지', '정자체', '스프링', '지하철', '인문']   \n",
       "3712     ['과학', '외향성', '유전학', '친화성', '규명', '개인차', '인문']   \n",
       "\n",
       "                                                책소개 키워드  \\\n",
       "0     {'조회', '선택', '부활', '오건', '금융위기', '달성', '소멸', '...   \n",
       "1     {'연속', '일본', '상황', '선택', '최', '속성', '장기', '추가'...   \n",
       "2     {'채널', '로부터', '울림', '원리', '누구', '최고', '주먹밥', '...   \n",
       "3     {'의', '저자', '정리', '존재', '운영', '모든', '장학', '구',...   \n",
       "4     {'능력', '반드시', '앞', '필수', '모든', '진실', '세계', '활용...   \n",
       "...                                                 ...   \n",
       "3708  {'인간', '저자', '룸', '뒤', '분석', '자기', '형태', '위협',...   \n",
       "3709  {'포함', '각주', '심화', '통해', '의미', '문법', '장', '표준'...   \n",
       "3710  {'채널', '역사', '의', '저자', '돌파', '층', '총', '결의', ...   \n",
       "3711  {'크기', '노트', '글씨', '스프링', '문장', '원고지', '가득', '...   \n",
       "3712  {'인간', '저자', '존재', '사랑', '서로', '성실', '종합', '가치...   \n",
       "\n",
       "                                                책소개 전처리  \\\n",
       "0     ['40만 독자가 선택한 오건영의 글로벌 경제사 특강', '누적 조회 수 550만 ...   \n",
       "1     ['2020 2021 2022 2023 4년 연속 최장기 베스트셀러', '80만 깨...   \n",
       "2     ['수많은 젊은 부자가 꼽은 최고의 부자학 입문서 부자의 그릇 양장 개정판', '당...   \n",
       "3     ['이 책은 과거와 현재', '미래의 모든 사장을 위한 실무 지침서다', '이 책은...   \n",
       "4     ['우리가 반드시 알아야 할 자본주의의 진실', '자본주의 는 자본주의를 쉽게 풀어...   \n",
       "...                                                 ...   \n",
       "3708  ['독서를 다룬 책 중 가장 빼어난 이야기', '언어의 파수꾼이자 책의 수호자 세계...   \n",
       "3709  ['제4판 표준 중세 국어 문법론에서는 지난 10년 동안에 나온 중세어 관련 문법 ...   \n",
       "3710  ['20만 구독자가 열광한 화제의 유튜브 역사채널 써에이스쇼 의 삼국지', '누적 ...   \n",
       "3711  ['아무때나 시간 날 때 틈틈이', '지하철 학교 회사 카페 집 어느 장소에서도',...   \n",
       "3712  ['내 성격은 어떻게 만들어진 걸까', '왜 사람마다 성격이 다를까', '성격을 바...   \n",
       "\n",
       "                                            책소개 키워드 수정본  \n",
       "0     ['부활', '인플레이션', '금융위기', '책', '경제위기', '소멸', '선택...  \n",
       "1     ['기념', '돈', '속성', '바뀐', '맞춰', '20', '경제', '경영'...  \n",
       "2     ['돈', '부자', '통해', '흥미로운', '의장', '스', '테디', '셀러...  \n",
       "3     ['사장', '대한', '있는', '위', '가장', '되었다', '직원', '따라...  \n",
       "4     ['자본주의', '있는', '그리고', '우리', '금융', '것', '오늘날', ...  \n",
       "...                                                 ...  \n",
       "3708  ['책', '있다', '저자', '대해', '관련', '된', '책', '독서', ...  \n",
       "3709  ['포함', '문법', '제', '3', '편', '국어', '지난', '다루었다'...  \n",
       "3710  ['삼국지', '정사', '역사', '시작', '장의', '마니아', '층', '있...  \n",
       "3711  ['물론', '연습', '4', '주', '동안', '나도', '꾸준히', '종이'...  \n",
       "3712  ['성격', '사람', '저자', '어떻게', '무엇', '일까', '뇌', '과학...  \n",
       "\n",
       "[3713 rows x 6 columns]"
      ]
     },
     "execution_count": 212,
     "metadata": {},
     "output_type": "execute_result"
    }
   ],
   "source": [
    "best = 베스트셀러.iloc[:, 1:]\n",
    "best"
   ]
  },
  {
   "cell_type": "code",
   "execution_count": 213,
   "id": "c14bbd6a",
   "metadata": {},
   "outputs": [
    {
     "name": "stdout",
     "output_type": "stream",
     "text": [
      "<class 'pandas.core.frame.DataFrame'>\n",
      "RangeIndex: 3713 entries, 0 to 3712\n",
      "Data columns (total 6 columns):\n",
      " #   Column       Non-Null Count  Dtype \n",
      "---  ------       --------------  ----- \n",
      " 0   상품명          3713 non-null   object\n",
      " 1   책소개          3713 non-null   object\n",
      " 2   키워드          3713 non-null   object\n",
      " 3   책소개 키워드      3713 non-null   object\n",
      " 4   책소개 전처리      3713 non-null   object\n",
      " 5   책소개 키워드 수정본  3713 non-null   object\n",
      "dtypes: object(6)\n",
      "memory usage: 174.2+ KB\n"
     ]
    }
   ],
   "source": [
    "best.info()"
   ]
  },
  {
   "cell_type": "code",
   "execution_count": 214,
   "id": "6909c4b3",
   "metadata": {},
   "outputs": [
    {
     "data": {
      "text/plain": [
       "상품명            0\n",
       "책소개            0\n",
       "키워드            0\n",
       "책소개 키워드        0\n",
       "책소개 전처리        0\n",
       "책소개 키워드 수정본    0\n",
       "dtype: int64"
      ]
     },
     "execution_count": 214,
     "metadata": {},
     "output_type": "execute_result"
    }
   ],
   "source": [
    "best.isnull().sum()"
   ]
  },
  {
   "cell_type": "code",
   "execution_count": 215,
   "id": "6bfbd523",
   "metadata": {},
   "outputs": [
    {
     "data": {
      "text/plain": [
       "0"
      ]
     },
     "execution_count": 215,
     "metadata": {},
     "output_type": "execute_result"
    }
   ],
   "source": [
    "best.duplicated().sum()"
   ]
  },
  {
   "cell_type": "code",
   "execution_count": null,
   "id": "e0c3cbe5",
   "metadata": {},
   "outputs": [],
   "source": []
  },
  {
   "cell_type": "markdown",
   "id": "d3359e90",
   "metadata": {},
   "source": [
    "#### 추천시스템 구현 과정\n",
    "\n",
    "step 1. 도서를 키워드로 벡터화 + document-term matrix 생성\n",
    "\n",
    "step 2. document-term matrix의 코사인 유사도 계산\n",
    "\n",
    "step 3. 코사인 유사도 기반 추천리스트 작성"
   ]
  },
  {
   "cell_type": "markdown",
   "id": "be3a630b",
   "metadata": {},
   "source": [
    "## 인코딩 기반 추천시스템\n",
    "\n",
    "\n",
    "- 각 책에 대하여 키워드의 존재여부를 인코딩한다.\n",
    "- 키워드 간 유사성 분석을 통해 동일한 키워드를 많이 가지고 있는 책을 우선적으로 추천하는 방식이다."
   ]
  },
  {
   "cell_type": "markdown",
   "id": "8cc2fcfe",
   "metadata": {},
   "source": [
    "### CountVectorizer : CountVectorizer()로 document-term matrix 생성"
   ]
  },
  {
   "cell_type": "code",
   "execution_count": 40,
   "id": "37434301",
   "metadata": {},
   "outputs": [],
   "source": [
    "from sklearn.feature_extraction.text import CountVectorizer"
   ]
  },
  {
   "cell_type": "markdown",
   "id": "9a933c2f",
   "metadata": {},
   "source": [
    "string 상태 그대로 적용"
   ]
  },
  {
   "cell_type": "code",
   "execution_count": 225,
   "id": "2e51f844",
   "metadata": {},
   "outputs": [
    {
     "name": "stdout",
     "output_type": "stream",
     "text": [
      "<class 'str'>\n"
     ]
    }
   ],
   "source": [
    "print(type(best.loc[0, '책소개 키워드 수정본']))"
   ]
  },
  {
   "cell_type": "markdown",
   "id": "6bba709d",
   "metadata": {},
   "source": [
    "### 도서 벡터화\n",
    "\n",
    ": document-term matrix 생성"
   ]
  },
  {
   "cell_type": "markdown",
   "id": "c1b4cafc",
   "metadata": {},
   "source": [
    "### ver 0. '책소개 키워드 수정본' 사용"
   ]
  },
  {
   "cell_type": "code",
   "execution_count": 227,
   "id": "d9b94aff",
   "metadata": {},
   "outputs": [],
   "source": [
    "count_vectorizer = CountVectorizer()\n",
    "book_mat_keyword = count_vectorizer.fit_transform(best['책소개 키워드 수정본'])   "
   ]
  },
  {
   "cell_type": "code",
   "execution_count": 228,
   "id": "beacdff8",
   "metadata": {
    "collapsed": true
   },
   "outputs": [
    {
     "data": {
      "text/plain": [
       "array([[0, 0, 0, ..., 0, 0, 0],\n",
       "       [0, 0, 0, ..., 0, 0, 0],\n",
       "       [0, 0, 0, ..., 0, 0, 0],\n",
       "       ...,\n",
       "       [0, 0, 0, ..., 0, 0, 0],\n",
       "       [0, 0, 0, ..., 0, 0, 0],\n",
       "       [0, 0, 0, ..., 0, 0, 0]], dtype=int64)"
      ]
     },
     "execution_count": 228,
     "metadata": {},
     "output_type": "execute_result"
    }
   ],
   "source": [
    "book_mat_keyword.toarray()"
   ]
  },
  {
   "cell_type": "markdown",
   "id": "b8aabf95",
   "metadata": {},
   "source": [
    "* dictionary 일부만 출력하기\n",
    "\n",
    "```python\n",
    "from itertools import islice\n",
    "dict(islice(출력할 dictionary.items(), 출력 개수))\n",
    "```"
   ]
  },
  {
   "cell_type": "code",
   "execution_count": 229,
   "id": "6d336834",
   "metadata": {},
   "outputs": [
    {
     "data": {
      "text/plain": [
       "{'금리': 952,\n",
       " '모기지': 2322,\n",
       " '흥국': 8748,\n",
       " '저금리': 6267,\n",
       " '글로벌': 940,\n",
       " '금융': 961,\n",
       " '위기': 5511,\n",
       " '실리콘밸리': 4456,\n",
       " '경제경영': 380,\n",
       " '부자되는법': 3133}"
      ]
     },
     "execution_count": 229,
     "metadata": {},
     "output_type": "execute_result"
    }
   ],
   "source": [
    "dict(islice(count_vect_keyword.vocabulary_.items(), 10))"
   ]
  },
  {
   "cell_type": "markdown",
   "id": "dad9d058",
   "metadata": {},
   "source": [
    "### ver 1. '키워드' 사용"
   ]
  },
  {
   "cell_type": "code",
   "execution_count": 234,
   "id": "5226ce14",
   "metadata": {},
   "outputs": [],
   "source": [
    "count_vectorizer_1 = CountVectorizer()\n",
    "book_mat_keyword_1 = count_vectorizer_1.fit_transform(best['키워드'])  "
   ]
  },
  {
   "cell_type": "code",
   "execution_count": 235,
   "id": "a1e26efe",
   "metadata": {},
   "outputs": [
    {
     "data": {
      "text/plain": [
       "array([[0, 0, 0, ..., 0, 0, 0],\n",
       "       [0, 0, 0, ..., 0, 0, 0],\n",
       "       [0, 0, 0, ..., 0, 0, 0],\n",
       "       ...,\n",
       "       [0, 0, 0, ..., 0, 0, 0],\n",
       "       [0, 0, 0, ..., 0, 0, 0],\n",
       "       [0, 0, 0, ..., 0, 0, 0]], dtype=int64)"
      ]
     },
     "execution_count": 235,
     "metadata": {},
     "output_type": "execute_result"
    }
   ],
   "source": [
    "book_mat_keyword_1.toarray()"
   ]
  },
  {
   "cell_type": "markdown",
   "id": "703db677",
   "metadata": {},
   "source": [
    "### ver 2. '상품명' 사용"
   ]
  },
  {
   "cell_type": "code",
   "execution_count": 245,
   "id": "0ba66420",
   "metadata": {},
   "outputs": [],
   "source": [
    "count_vectorizer_2 = CountVectorizer()\n",
    "book_mat_keyword_2 = count_vectorizer_2.fit_transform(best['상품명']) "
   ]
  },
  {
   "cell_type": "code",
   "execution_count": 246,
   "id": "16b9fa88",
   "metadata": {},
   "outputs": [
    {
     "data": {
      "text/plain": [
       "array([[0, 0, 0, ..., 0, 0, 0],\n",
       "       [0, 0, 0, ..., 0, 0, 0],\n",
       "       [0, 0, 0, ..., 0, 0, 0],\n",
       "       ...,\n",
       "       [0, 0, 0, ..., 0, 0, 0],\n",
       "       [0, 0, 0, ..., 0, 0, 0],\n",
       "       [0, 0, 0, ..., 0, 0, 0]], dtype=int64)"
      ]
     },
     "execution_count": 246,
     "metadata": {},
     "output_type": "execute_result"
    }
   ],
   "source": [
    "book_mat_keyword_2.toarray()"
   ]
  },
  {
   "cell_type": "markdown",
   "id": "7d72c889",
   "metadata": {},
   "source": [
    "### 코사인 유사도 계산\n",
    "\n",
    ": document-term matrix의 각 행 사이 코사인 유사도 계산"
   ]
  },
  {
   "cell_type": "code",
   "execution_count": null,
   "id": "8eada4b0",
   "metadata": {},
   "outputs": [],
   "source": [
    "from sklearn.metrics.pairwise import cosine_similarity"
   ]
  },
  {
   "cell_type": "code",
   "execution_count": 247,
   "id": "dc06ee42",
   "metadata": {},
   "outputs": [],
   "source": [
    "cosine_sim = cosine_similarity(book_mat_keyword.toarray())\n",
    "cosine_sim_1 = cosine_similarity(book_mat_keyword_1.toarray())\n",
    "cosine_sim_2 = cosine_similarity(book_mat_keyword_2.toarray())"
   ]
  },
  {
   "cell_type": "code",
   "execution_count": 248,
   "id": "205b318e",
   "metadata": {},
   "outputs": [
    {
     "name": "stdout",
     "output_type": "stream",
     "text": [
      "(3713, 3713)\n",
      "[[1.         0.08944272 0.         ... 0.04152274 0.         0.        ]\n",
      " [0.08944272 1.         0.03849002 ... 0.03713907 0.         0.        ]\n",
      " [0.         0.03849002 1.         ... 0.10721125 0.03513642 0.03253   ]\n",
      " ...\n",
      " [0.         0.03592106 0.03456506 ... 0.         0.03279129 0.        ]\n",
      " [0.         0.03651484 0.03513642 ... 0.03390318 0.03333333 0.03086067]\n",
      " [0.         0.         0.         ... 0.03335187 0.03279129 0.03035884]]\n"
     ]
    }
   ],
   "source": [
    "print(cosine_sim.shape)\n",
    "print(cosine_sim[:10])"
   ]
  },
  {
   "cell_type": "markdown",
   "id": "d6118eeb",
   "metadata": {},
   "source": [
    "### 유사도 가중치 설정\n",
    "\n",
    "코사인 유사도 변수\n",
    "> cosine_sim -> 책소개 키워드  \n",
    "> cosine_sim_1 -> 키워드 Pick  \n",
    "> cosine_sim_2 -> 상품명  "
   ]
  },
  {
   "cell_type": "code",
   "execution_count": 249,
   "id": "0271c9a0",
   "metadata": {},
   "outputs": [
    {
     "data": {
      "text/plain": [
       "array([[1.        , 0.09133264, 0.05555556, ..., 0.0166091 , 0.        ,\n",
       "        0.        ],\n",
       "       [0.09133264, 1.        , 0.12650712, ..., 0.01485563, 0.        ,\n",
       "        0.        ],\n",
       "       [0.05555556, 0.12650712, 1.        , ..., 0.0428845 , 0.01405457,\n",
       "        0.013012  ],\n",
       "       ...,\n",
       "       [0.0166091 , 0.01485563, 0.0428845 , ..., 1.        , 0.06299408,\n",
       "        0.07554938],\n",
       "       [0.        , 0.        , 0.01405457, ..., 0.06299408, 1.        ,\n",
       "        0.07142857],\n",
       "       [0.        , 0.        , 0.013012  , ..., 0.07554938, 0.07142857,\n",
       "        1.        ]])"
      ]
     },
     "execution_count": 249,
     "metadata": {},
     "output_type": "execute_result"
    }
   ],
   "source": [
    "sim = 0.4*cosine_sim + 0.5*cosine_sim_1 + 0.1*cosine_sim_2\n",
    "sim"
   ]
  },
  {
   "cell_type": "code",
   "execution_count": null,
   "id": "a18d0c2c",
   "metadata": {},
   "outputs": [],
   "source": []
  },
  {
   "cell_type": "markdown",
   "id": "6ed8aa41",
   "metadata": {},
   "source": [
    "## 추천리스트 작성\n",
    "\n",
    ": 상위 top_n개의 유사 도서를 추천해는 함수 정의\n",
    "\n",
    "추천 시스템 원리 = 주어진 title에 대하여 코사인 유사도가 높은 순부터 내림차순 정렬한 후 상위 n개를 추출하는 방식\n",
    "\n",
    "**np.argsort()**\n",
    "- 오름차순으로 정렬하는데, 이때 출력값으로 정렬되기 전의 인덱스 값을 리스트로 반환한다.  \n",
    "- 역순 정렬을 통해 0~3712번 각 책과 유사한 책의 index를 내림차순으로 반환하도록 만든다.  \n",
    "- 예를 들어 0번째 책의 경우 845번, 244번,,,, 1558번, 3712번 index 순서대로 유사도가 높다."
   ]
  },
  {
   "cell_type": "code",
   "execution_count": 254,
   "id": "6283a28a",
   "metadata": {},
   "outputs": [],
   "source": [
    "# 궁금한 도서의 index 입력\n",
    "query_index = 0"
   ]
  },
  {
   "cell_type": "code",
   "execution_count": 263,
   "id": "fa8df552",
   "metadata": {},
   "outputs": [],
   "source": [
    "def find_sim_book(best, sim, query_index, top_k):\n",
    "    # query 인덱스에 대한 유사도 값을 가져옴\n",
    "    query_similarity = sim[query_index]\n",
    "\n",
    "    # 코사인 유사도 값을 기준으로 유사도가 높은 순서대로 정렬된 인덱스를 얻음\n",
    "    sorted_indices = np.argsort(query_similarity)[::-1]\n",
    "\n",
    "    print(f'검색한 콘텐츠 : {best[\"상품명\"].iloc[query_index]}')\n",
    "    print('\\n출력한 콘텐츠')\n",
    "    print(sorted_indices)\n",
    "    print(best['상품명'].iloc[sorted_indices[1:top_k +1]])"
   ]
  },
  {
   "cell_type": "code",
   "execution_count": 264,
   "id": "ee30f09f",
   "metadata": {},
   "outputs": [
    {
     "name": "stdout",
     "output_type": "stream",
     "text": [
      "검색한 콘텐츠 : 위기의 역사\n",
      "\n",
      "출력한 콘텐츠\n",
      "[   0  845  244 ... 1560 1558 3712]\n",
      "845              부채의 역습\n",
      "244     세계화의 종말과 새로운 시작\n",
      "880    글로벌경제 상식사전(2023)\n",
      "487       경제 상식사전(2022)\n",
      "806              투자의 모험\n",
      "400              좋은 불평등\n",
      "96            투자에 대한 생각\n",
      "459           EBS 다큐프라임\n",
      "177             맨큐의 경제학\n",
      "108      돈을 찍어내는 제왕, 연준\n",
      "Name: 상품명, dtype: object\n"
     ]
    }
   ],
   "source": [
    "find_sim_book(best, sim, query_index, top_k)"
   ]
  },
  {
   "cell_type": "code",
   "execution_count": null,
   "id": "3e7030f5",
   "metadata": {},
   "outputs": [],
   "source": []
  },
  {
   "cell_type": "markdown",
   "id": "7ae6cd8f",
   "metadata": {},
   "source": [
    "CountVectorizer의 문제점\n",
    "- CountVectorizer()를 실행하면서 이미 완료된 키워드 토큰화가 다시 토큰화되는 문제  \n",
    "- 아래 예시의 경우 0행 키워드로 '글로벌 금융 위기'가 존재하지만 `count_vect_keyword.vocabulary_`에는 존재하지 않음"
   ]
  },
  {
   "cell_type": "code",
   "execution_count": 210,
   "id": "836eadc5",
   "metadata": {},
   "outputs": [
    {
     "data": {
      "text/plain": [
       "\"['금리', '모기지', '흥국', '저금리', '글로벌 금융 위기', '실리콘밸리', '경제경영']\""
      ]
     },
     "execution_count": 210,
     "metadata": {},
     "output_type": "execute_result"
    }
   ],
   "source": [
    "best['키워드'][0]\n",
    "#count_vect_keyword.vocabulary_['글로벌 금융 위기']"
   ]
  },
  {
   "cell_type": "code",
   "execution_count": null,
   "id": "9e7f7b15",
   "metadata": {},
   "outputs": [],
   "source": []
  },
  {
   "cell_type": "code",
   "execution_count": null,
   "id": "32c35402",
   "metadata": {},
   "outputs": [],
   "source": []
  },
  {
   "cell_type": "markdown",
   "id": "6d9d7116",
   "metadata": {},
   "source": [
    "### 원 핫 인코딩 : 원 핫 인코딩 진행해 document-term matrix 생성"
   ]
  },
  {
   "cell_type": "markdown",
   "id": "9d0fc99b",
   "metadata": {},
   "source": [
    "string이 아닌 list로 인식되도록 변경"
   ]
  },
  {
   "cell_type": "code",
   "execution_count": 271,
   "id": "ce225378",
   "metadata": {},
   "outputs": [
    {
     "name": "stdout",
     "output_type": "stream",
     "text": [
      "<class 'str'>\n",
      "<class 'list'>\n",
      "<class 'list'>\n"
     ]
    }
   ],
   "source": [
    "print(type(best.loc[0, '키워드']))\n",
    "\n",
    "best2=best.copy()\n",
    "best2['키워드'] = best2['키워드'].apply(lambda x: literal_eval(x))\n",
    "best2['책소개 키워드 수정본'] = best2['책소개 키워드 수정본'].apply(lambda x: literal_eval(x))\n",
    "\n",
    "print(type(best2.loc[0, '키워드']))\n",
    "print(type(best2.loc[0, '책소개 키워드 수정본']))"
   ]
  },
  {
   "cell_type": "markdown",
   "id": "6b0498c9",
   "metadata": {},
   "source": [
    "### 도서 벡터화\n",
    "\n",
    ": document-term matrix 생성"
   ]
  },
  {
   "cell_type": "markdown",
   "id": "e417a784",
   "metadata": {},
   "source": [
    "step 1. 키워드 dictionary 만들기 : 존재하는 모든 키워드 list `word_dic` 생성"
   ]
  },
  {
   "cell_type": "code",
   "execution_count": 272,
   "id": "04720521",
   "metadata": {},
   "outputs": [
    {
     "data": {
      "text/html": [
       "<div>\n",
       "<style scoped>\n",
       "    .dataframe tbody tr th:only-of-type {\n",
       "        vertical-align: middle;\n",
       "    }\n",
       "\n",
       "    .dataframe tbody tr th {\n",
       "        vertical-align: top;\n",
       "    }\n",
       "\n",
       "    .dataframe thead th {\n",
       "        text-align: right;\n",
       "    }\n",
       "</style>\n",
       "<table border=\"1\" class=\"dataframe\">\n",
       "  <thead>\n",
       "    <tr style=\"text-align: right;\">\n",
       "      <th></th>\n",
       "      <th>상품명</th>\n",
       "      <th>책소개</th>\n",
       "      <th>키워드</th>\n",
       "      <th>책소개 키워드</th>\n",
       "      <th>책소개 전처리</th>\n",
       "      <th>책소개 키워드 수정본</th>\n",
       "      <th>상품명_전처리</th>\n",
       "    </tr>\n",
       "  </thead>\n",
       "  <tbody>\n",
       "    <tr>\n",
       "      <th>0</th>\n",
       "      <td>위기의 역사</td>\n",
       "      <td>40만 독자가 선택한 오건영의 글로벌 경제사 특강\\n누적 조회 수 550만 회 달성...</td>\n",
       "      <td>[금리, 모기지, 흥국, 저금리, 글로벌 금융 위기, 실리콘밸리, 경제경영]</td>\n",
       "      <td>{'조회', '선택', '부활', '오건', '금융위기', '달성', '소멸', '...</td>\n",
       "      <td>['40만 독자가 선택한 오건영의 글로벌 경제사 특강', '누적 조회 수 550만 ...</td>\n",
       "      <td>[부활, 인플레이션, 금융위기, 책, 경제위기, 소멸, 선택, 생, 성과, 오건, ...</td>\n",
       "      <td>['위기', '역사']</td>\n",
       "    </tr>\n",
       "    <tr>\n",
       "      <th>1</th>\n",
       "      <td>돈의 속성(300쇄 리커버에디션)</td>\n",
       "      <td>2020ㆍ2021ㆍ2022ㆍ2023 4년 연속 최장기 베스트셀러\\n80만 깨어있는 ...</td>\n",
       "      <td>[부자되는법, 종잣돈, 회장, 투자 원칙, 경제철학, 주식 시장, 경제경영]</td>\n",
       "      <td>{'연속', '일본', '상황', '선택', '최', '속성', '장기', '추가'...</td>\n",
       "      <td>['2020 2021 2022 2023 4년 연속 최장기 베스트셀러', '80만 깨...</td>\n",
       "      <td>[기념, 돈, 속성, 바뀐, 맞춰, 20, 경제, 경영, 필, 도서, 추가, 최, ...</td>\n",
       "      <td>['돈', '속성', '쇄', '리', '커버', '에디', '션']</td>\n",
       "    </tr>\n",
       "    <tr>\n",
       "      <th>2</th>\n",
       "      <td>부자의 그릇</td>\n",
       "      <td>수많은 젊은 부자가 꼽은 최고의 ‘부자학 입문서’ 『부자의 그릇』 양장 개정판\\n“...</td>\n",
       "      <td>[부자되는법, 신용, 소설 형식, 배트, 경제이야기, 사업 아이템, 경제경영]</td>\n",
       "      <td>{'채널', '로부터', '울림', '원리', '누구', '최고', '주먹밥', '...</td>\n",
       "      <td>['수많은 젊은 부자가 꼽은 최고의 부자학 입문서 부자의 그릇 양장 개정판', '당...</td>\n",
       "      <td>[돈, 부자, 통해, 흥미로운, 의장, 스, 테디, 셀러, 돈, 돈, 젊은, 가게,...</td>\n",
       "      <td>['부자', '그릇']</td>\n",
       "    </tr>\n",
       "    <tr>\n",
       "      <th>3</th>\n",
       "      <td>사장학개론</td>\n",
       "      <td>이 책은 과거와 현재,\\n미래의 모든 사장을 위한 실무 지침서다\\n이 책은 한국과 ...</td>\n",
       "      <td>[창업, 매출, 직원, 장학, 기업인, 사업, 경제경영]</td>\n",
       "      <td>{'의', '저자', '정리', '존재', '운영', '모든', '장학', '구',...</td>\n",
       "      <td>['이 책은 과거와 현재', '미래의 모든 사장을 위한 실무 지침서다', '이 책은...</td>\n",
       "      <td>[사장, 대한, 있는, 위, 가장, 되었다, 직원, 따라, 지금, 하는지, 한정, ...</td>\n",
       "      <td>['장학', '개론']</td>\n",
       "    </tr>\n",
       "    <tr>\n",
       "      <th>4</th>\n",
       "      <td>EBS 다큐프라임</td>\n",
       "      <td>우리가 반드시 알아야 할 자본주의의 진실!\\n『자본주의』는 자본주의를 쉽게 풀어낸 ...</td>\n",
       "      <td>[재테크, 경제학, 중앙은행, 케인스, 경제이론, 국부론, 경제경영]</td>\n",
       "      <td>{'능력', '반드시', '앞', '필수', '모든', '진실', '세계', '활용...</td>\n",
       "      <td>['우리가 반드시 알아야 할 자본주의의 진실', '자본주의 는 자본주의를 쉽게 풀어...</td>\n",
       "      <td>[자본주의, 있는, 그리고, 우리, 금융, 것, 오늘날, 쉽게, 진실, 것, 인지도...</td>\n",
       "      <td>['다큐프라임']</td>\n",
       "    </tr>\n",
       "  </tbody>\n",
       "</table>\n",
       "</div>"
      ],
      "text/plain": [
       "                  상품명                                                책소개  \\\n",
       "0              위기의 역사  40만 독자가 선택한 오건영의 글로벌 경제사 특강\\n누적 조회 수 550만 회 달성...   \n",
       "1  돈의 속성(300쇄 리커버에디션)  2020ㆍ2021ㆍ2022ㆍ2023 4년 연속 최장기 베스트셀러\\n80만 깨어있는 ...   \n",
       "2              부자의 그릇  수많은 젊은 부자가 꼽은 최고의 ‘부자학 입문서’ 『부자의 그릇』 양장 개정판\\n“...   \n",
       "3               사장학개론  이 책은 과거와 현재,\\n미래의 모든 사장을 위한 실무 지침서다\\n이 책은 한국과 ...   \n",
       "4           EBS 다큐프라임  우리가 반드시 알아야 할 자본주의의 진실!\\n『자본주의』는 자본주의를 쉽게 풀어낸 ...   \n",
       "\n",
       "                                           키워드  \\\n",
       "0   [금리, 모기지, 흥국, 저금리, 글로벌 금융 위기, 실리콘밸리, 경제경영]   \n",
       "1   [부자되는법, 종잣돈, 회장, 투자 원칙, 경제철학, 주식 시장, 경제경영]   \n",
       "2  [부자되는법, 신용, 소설 형식, 배트, 경제이야기, 사업 아이템, 경제경영]   \n",
       "3              [창업, 매출, 직원, 장학, 기업인, 사업, 경제경영]   \n",
       "4       [재테크, 경제학, 중앙은행, 케인스, 경제이론, 국부론, 경제경영]   \n",
       "\n",
       "                                             책소개 키워드  \\\n",
       "0  {'조회', '선택', '부활', '오건', '금융위기', '달성', '소멸', '...   \n",
       "1  {'연속', '일본', '상황', '선택', '최', '속성', '장기', '추가'...   \n",
       "2  {'채널', '로부터', '울림', '원리', '누구', '최고', '주먹밥', '...   \n",
       "3  {'의', '저자', '정리', '존재', '운영', '모든', '장학', '구',...   \n",
       "4  {'능력', '반드시', '앞', '필수', '모든', '진실', '세계', '활용...   \n",
       "\n",
       "                                             책소개 전처리  \\\n",
       "0  ['40만 독자가 선택한 오건영의 글로벌 경제사 특강', '누적 조회 수 550만 ...   \n",
       "1  ['2020 2021 2022 2023 4년 연속 최장기 베스트셀러', '80만 깨...   \n",
       "2  ['수많은 젊은 부자가 꼽은 최고의 부자학 입문서 부자의 그릇 양장 개정판', '당...   \n",
       "3  ['이 책은 과거와 현재', '미래의 모든 사장을 위한 실무 지침서다', '이 책은...   \n",
       "4  ['우리가 반드시 알아야 할 자본주의의 진실', '자본주의 는 자본주의를 쉽게 풀어...   \n",
       "\n",
       "                                         책소개 키워드 수정본  \\\n",
       "0  [부활, 인플레이션, 금융위기, 책, 경제위기, 소멸, 선택, 생, 성과, 오건, ...   \n",
       "1  [기념, 돈, 속성, 바뀐, 맞춰, 20, 경제, 경영, 필, 도서, 추가, 최, ...   \n",
       "2  [돈, 부자, 통해, 흥미로운, 의장, 스, 테디, 셀러, 돈, 돈, 젊은, 가게,...   \n",
       "3  [사장, 대한, 있는, 위, 가장, 되었다, 직원, 따라, 지금, 하는지, 한정, ...   \n",
       "4  [자본주의, 있는, 그리고, 우리, 금융, 것, 오늘날, 쉽게, 진실, 것, 인지도...   \n",
       "\n",
       "                                  상품명_전처리  \n",
       "0                            ['위기', '역사']  \n",
       "1  ['돈', '속성', '쇄', '리', '커버', '에디', '션']  \n",
       "2                            ['부자', '그릇']  \n",
       "3                            ['장학', '개론']  \n",
       "4                               ['다큐프라임']  "
      ]
     },
     "execution_count": 272,
     "metadata": {},
     "output_type": "execute_result"
    }
   ],
   "source": [
    "best2.head()"
   ]
  },
  {
   "cell_type": "code",
   "execution_count": 273,
   "id": "715fa46b",
   "metadata": {},
   "outputs": [],
   "source": [
    "word=list()\n",
    "\n",
    "for i in range(len(best2['키워드'])):\n",
    "    keyword_list = best2.loc[i, '키워드']\n",
    "    word += keyword_list\n",
    "\n",
    "word_dic = list(set(word))"
   ]
  },
  {
   "cell_type": "code",
   "execution_count": 274,
   "id": "bc89c0d3",
   "metadata": {},
   "outputs": [
    {
     "data": {
      "text/plain": [
       "10465"
      ]
     },
     "execution_count": 274,
     "metadata": {},
     "output_type": "execute_result"
    }
   ],
   "source": [
    "len(word_dic)"
   ]
  },
  {
   "cell_type": "code",
   "execution_count": 275,
   "id": "6358aeed",
   "metadata": {},
   "outputs": [
    {
     "data": {
      "text/plain": [
       "list"
      ]
     },
     "execution_count": 275,
     "metadata": {},
     "output_type": "execute_result"
    }
   ],
   "source": [
    "type(word_dic)"
   ]
  },
  {
   "cell_type": "markdown",
   "id": "2f3e2215",
   "metadata": {},
   "source": [
    "step 2. 벡터화 함수 설정 : 각 도서를 키워드로 빈도수로 벡터화하는 함수 정의"
   ]
  },
  {
   "cell_type": "code",
   "execution_count": 173,
   "id": "dfae02bb",
   "metadata": {},
   "outputs": [],
   "source": [
    "tmp = []\n",
    "lst = ['금리', '모기지', '흥국', '저금리', '글로벌 금융 위기', '실리콘밸리', '경제경영']\n",
    "\n",
    "for voca in word_dic:\n",
    "        tmp.append(lst.count(voca))"
   ]
  },
  {
   "cell_type": "code",
   "execution_count": 174,
   "id": "4d69b53d",
   "metadata": {},
   "outputs": [
    {
     "data": {
      "text/plain": [
       "7"
      ]
     },
     "execution_count": 174,
     "metadata": {},
     "output_type": "execute_result"
    }
   ],
   "source": [
    "len([i for i in tmp if i>0])"
   ]
  },
  {
   "cell_type": "markdown",
   "id": "50a68908",
   "metadata": {},
   "source": [
    "list.count() method를 이용해 키워드의 존재여부에 대한 DTM dataframe 생성"
   ]
  },
  {
   "cell_type": "code",
   "execution_count": 182,
   "id": "8704437b",
   "metadata": {},
   "outputs": [],
   "source": [
    "def vectorize(df, col):\n",
    "    df_matrix = pd.DataFrame()\n",
    "    #columns=range(10465)\n",
    "    #columns = list(word_dic)\n",
    "\n",
    "    for i in range(df.shape[0]):\n",
    "        tmp = []\n",
    "        for voca in word_dic:\n",
    "            tmp.append(df.loc[i, col].count(voca))\n",
    "        df_matrix = pd.concat([df_matrix,  pd.DataFrame(tmp).T])\n",
    "        #df_matrix.append(tmp)\n",
    "    return df_matrix"
   ]
  },
  {
   "cell_type": "code",
   "execution_count": null,
   "id": "57aaaa93",
   "metadata": {},
   "outputs": [],
   "source": []
  },
  {
   "cell_type": "markdown",
   "id": "905130fa",
   "metadata": {},
   "source": [
    "### ver 0. '책소개 키워드 수정본' 사용"
   ]
  },
  {
   "cell_type": "code",
   "execution_count": 276,
   "id": "e43edbff",
   "metadata": {},
   "outputs": [],
   "source": [
    "df_matrix = vectorize(best2, '책소개 키워드 수정본')"
   ]
  },
  {
   "cell_type": "code",
   "execution_count": 277,
   "id": "c6d6932b",
   "metadata": {},
   "outputs": [],
   "source": [
    "df_matrix.reset_index(drop=True, inplace=True)"
   ]
  },
  {
   "cell_type": "code",
   "execution_count": 278,
   "id": "1f877e09",
   "metadata": {},
   "outputs": [
    {
     "data": {
      "text/html": [
       "<div>\n",
       "<style scoped>\n",
       "    .dataframe tbody tr th:only-of-type {\n",
       "        vertical-align: middle;\n",
       "    }\n",
       "\n",
       "    .dataframe tbody tr th {\n",
       "        vertical-align: top;\n",
       "    }\n",
       "\n",
       "    .dataframe thead th {\n",
       "        text-align: right;\n",
       "    }\n",
       "</style>\n",
       "<table border=\"1\" class=\"dataframe\">\n",
       "  <thead>\n",
       "    <tr style=\"text-align: right;\">\n",
       "      <th></th>\n",
       "      <th>0</th>\n",
       "      <th>1</th>\n",
       "      <th>2</th>\n",
       "      <th>3</th>\n",
       "      <th>4</th>\n",
       "      <th>5</th>\n",
       "      <th>6</th>\n",
       "      <th>7</th>\n",
       "      <th>8</th>\n",
       "      <th>9</th>\n",
       "      <th>...</th>\n",
       "      <th>10455</th>\n",
       "      <th>10456</th>\n",
       "      <th>10457</th>\n",
       "      <th>10458</th>\n",
       "      <th>10459</th>\n",
       "      <th>10460</th>\n",
       "      <th>10461</th>\n",
       "      <th>10462</th>\n",
       "      <th>10463</th>\n",
       "      <th>10464</th>\n",
       "    </tr>\n",
       "  </thead>\n",
       "  <tbody>\n",
       "    <tr>\n",
       "      <th>0</th>\n",
       "      <td>0</td>\n",
       "      <td>0</td>\n",
       "      <td>0</td>\n",
       "      <td>0</td>\n",
       "      <td>0</td>\n",
       "      <td>0</td>\n",
       "      <td>0</td>\n",
       "      <td>0</td>\n",
       "      <td>0</td>\n",
       "      <td>0</td>\n",
       "      <td>...</td>\n",
       "      <td>0</td>\n",
       "      <td>0</td>\n",
       "      <td>0</td>\n",
       "      <td>0</td>\n",
       "      <td>0</td>\n",
       "      <td>0</td>\n",
       "      <td>0</td>\n",
       "      <td>0</td>\n",
       "      <td>0</td>\n",
       "      <td>0</td>\n",
       "    </tr>\n",
       "    <tr>\n",
       "      <th>1</th>\n",
       "      <td>0</td>\n",
       "      <td>0</td>\n",
       "      <td>0</td>\n",
       "      <td>0</td>\n",
       "      <td>0</td>\n",
       "      <td>0</td>\n",
       "      <td>0</td>\n",
       "      <td>0</td>\n",
       "      <td>0</td>\n",
       "      <td>0</td>\n",
       "      <td>...</td>\n",
       "      <td>0</td>\n",
       "      <td>0</td>\n",
       "      <td>0</td>\n",
       "      <td>0</td>\n",
       "      <td>0</td>\n",
       "      <td>0</td>\n",
       "      <td>0</td>\n",
       "      <td>0</td>\n",
       "      <td>0</td>\n",
       "      <td>0</td>\n",
       "    </tr>\n",
       "    <tr>\n",
       "      <th>2</th>\n",
       "      <td>0</td>\n",
       "      <td>0</td>\n",
       "      <td>0</td>\n",
       "      <td>0</td>\n",
       "      <td>0</td>\n",
       "      <td>0</td>\n",
       "      <td>0</td>\n",
       "      <td>0</td>\n",
       "      <td>0</td>\n",
       "      <td>0</td>\n",
       "      <td>...</td>\n",
       "      <td>0</td>\n",
       "      <td>0</td>\n",
       "      <td>0</td>\n",
       "      <td>0</td>\n",
       "      <td>0</td>\n",
       "      <td>0</td>\n",
       "      <td>0</td>\n",
       "      <td>0</td>\n",
       "      <td>0</td>\n",
       "      <td>0</td>\n",
       "    </tr>\n",
       "    <tr>\n",
       "      <th>3</th>\n",
       "      <td>0</td>\n",
       "      <td>0</td>\n",
       "      <td>0</td>\n",
       "      <td>0</td>\n",
       "      <td>0</td>\n",
       "      <td>0</td>\n",
       "      <td>0</td>\n",
       "      <td>0</td>\n",
       "      <td>0</td>\n",
       "      <td>0</td>\n",
       "      <td>...</td>\n",
       "      <td>0</td>\n",
       "      <td>0</td>\n",
       "      <td>0</td>\n",
       "      <td>0</td>\n",
       "      <td>0</td>\n",
       "      <td>1</td>\n",
       "      <td>0</td>\n",
       "      <td>0</td>\n",
       "      <td>0</td>\n",
       "      <td>0</td>\n",
       "    </tr>\n",
       "    <tr>\n",
       "      <th>4</th>\n",
       "      <td>0</td>\n",
       "      <td>0</td>\n",
       "      <td>0</td>\n",
       "      <td>0</td>\n",
       "      <td>0</td>\n",
       "      <td>0</td>\n",
       "      <td>0</td>\n",
       "      <td>0</td>\n",
       "      <td>0</td>\n",
       "      <td>0</td>\n",
       "      <td>...</td>\n",
       "      <td>0</td>\n",
       "      <td>0</td>\n",
       "      <td>0</td>\n",
       "      <td>0</td>\n",
       "      <td>0</td>\n",
       "      <td>0</td>\n",
       "      <td>0</td>\n",
       "      <td>0</td>\n",
       "      <td>0</td>\n",
       "      <td>0</td>\n",
       "    </tr>\n",
       "    <tr>\n",
       "      <th>...</th>\n",
       "      <td>...</td>\n",
       "      <td>...</td>\n",
       "      <td>...</td>\n",
       "      <td>...</td>\n",
       "      <td>...</td>\n",
       "      <td>...</td>\n",
       "      <td>...</td>\n",
       "      <td>...</td>\n",
       "      <td>...</td>\n",
       "      <td>...</td>\n",
       "      <td>...</td>\n",
       "      <td>...</td>\n",
       "      <td>...</td>\n",
       "      <td>...</td>\n",
       "      <td>...</td>\n",
       "      <td>...</td>\n",
       "      <td>...</td>\n",
       "      <td>...</td>\n",
       "      <td>...</td>\n",
       "      <td>...</td>\n",
       "      <td>...</td>\n",
       "    </tr>\n",
       "    <tr>\n",
       "      <th>3708</th>\n",
       "      <td>0</td>\n",
       "      <td>0</td>\n",
       "      <td>0</td>\n",
       "      <td>0</td>\n",
       "      <td>0</td>\n",
       "      <td>0</td>\n",
       "      <td>0</td>\n",
       "      <td>0</td>\n",
       "      <td>0</td>\n",
       "      <td>0</td>\n",
       "      <td>...</td>\n",
       "      <td>0</td>\n",
       "      <td>0</td>\n",
       "      <td>0</td>\n",
       "      <td>0</td>\n",
       "      <td>0</td>\n",
       "      <td>0</td>\n",
       "      <td>0</td>\n",
       "      <td>0</td>\n",
       "      <td>0</td>\n",
       "      <td>0</td>\n",
       "    </tr>\n",
       "    <tr>\n",
       "      <th>3709</th>\n",
       "      <td>0</td>\n",
       "      <td>0</td>\n",
       "      <td>0</td>\n",
       "      <td>0</td>\n",
       "      <td>0</td>\n",
       "      <td>0</td>\n",
       "      <td>0</td>\n",
       "      <td>0</td>\n",
       "      <td>0</td>\n",
       "      <td>0</td>\n",
       "      <td>...</td>\n",
       "      <td>0</td>\n",
       "      <td>0</td>\n",
       "      <td>0</td>\n",
       "      <td>0</td>\n",
       "      <td>0</td>\n",
       "      <td>0</td>\n",
       "      <td>0</td>\n",
       "      <td>0</td>\n",
       "      <td>0</td>\n",
       "      <td>0</td>\n",
       "    </tr>\n",
       "    <tr>\n",
       "      <th>3710</th>\n",
       "      <td>0</td>\n",
       "      <td>0</td>\n",
       "      <td>0</td>\n",
       "      <td>0</td>\n",
       "      <td>0</td>\n",
       "      <td>0</td>\n",
       "      <td>0</td>\n",
       "      <td>0</td>\n",
       "      <td>0</td>\n",
       "      <td>0</td>\n",
       "      <td>...</td>\n",
       "      <td>0</td>\n",
       "      <td>0</td>\n",
       "      <td>0</td>\n",
       "      <td>0</td>\n",
       "      <td>0</td>\n",
       "      <td>0</td>\n",
       "      <td>0</td>\n",
       "      <td>0</td>\n",
       "      <td>0</td>\n",
       "      <td>0</td>\n",
       "    </tr>\n",
       "    <tr>\n",
       "      <th>3711</th>\n",
       "      <td>0</td>\n",
       "      <td>0</td>\n",
       "      <td>0</td>\n",
       "      <td>0</td>\n",
       "      <td>0</td>\n",
       "      <td>0</td>\n",
       "      <td>0</td>\n",
       "      <td>0</td>\n",
       "      <td>0</td>\n",
       "      <td>0</td>\n",
       "      <td>...</td>\n",
       "      <td>0</td>\n",
       "      <td>0</td>\n",
       "      <td>0</td>\n",
       "      <td>0</td>\n",
       "      <td>0</td>\n",
       "      <td>0</td>\n",
       "      <td>0</td>\n",
       "      <td>0</td>\n",
       "      <td>0</td>\n",
       "      <td>0</td>\n",
       "    </tr>\n",
       "    <tr>\n",
       "      <th>3712</th>\n",
       "      <td>0</td>\n",
       "      <td>0</td>\n",
       "      <td>0</td>\n",
       "      <td>0</td>\n",
       "      <td>0</td>\n",
       "      <td>0</td>\n",
       "      <td>0</td>\n",
       "      <td>0</td>\n",
       "      <td>0</td>\n",
       "      <td>0</td>\n",
       "      <td>...</td>\n",
       "      <td>0</td>\n",
       "      <td>0</td>\n",
       "      <td>0</td>\n",
       "      <td>0</td>\n",
       "      <td>0</td>\n",
       "      <td>0</td>\n",
       "      <td>0</td>\n",
       "      <td>0</td>\n",
       "      <td>0</td>\n",
       "      <td>0</td>\n",
       "    </tr>\n",
       "  </tbody>\n",
       "</table>\n",
       "<p>3713 rows × 10465 columns</p>\n",
       "</div>"
      ],
      "text/plain": [
       "      0      1      2      3      4      5      6      7      8      9      \\\n",
       "0         0      0      0      0      0      0      0      0      0      0   \n",
       "1         0      0      0      0      0      0      0      0      0      0   \n",
       "2         0      0      0      0      0      0      0      0      0      0   \n",
       "3         0      0      0      0      0      0      0      0      0      0   \n",
       "4         0      0      0      0      0      0      0      0      0      0   \n",
       "...     ...    ...    ...    ...    ...    ...    ...    ...    ...    ...   \n",
       "3708      0      0      0      0      0      0      0      0      0      0   \n",
       "3709      0      0      0      0      0      0      0      0      0      0   \n",
       "3710      0      0      0      0      0      0      0      0      0      0   \n",
       "3711      0      0      0      0      0      0      0      0      0      0   \n",
       "3712      0      0      0      0      0      0      0      0      0      0   \n",
       "\n",
       "      ...  10455  10456  10457  10458  10459  10460  10461  10462  10463  \\\n",
       "0     ...      0      0      0      0      0      0      0      0      0   \n",
       "1     ...      0      0      0      0      0      0      0      0      0   \n",
       "2     ...      0      0      0      0      0      0      0      0      0   \n",
       "3     ...      0      0      0      0      0      1      0      0      0   \n",
       "4     ...      0      0      0      0      0      0      0      0      0   \n",
       "...   ...    ...    ...    ...    ...    ...    ...    ...    ...    ...   \n",
       "3708  ...      0      0      0      0      0      0      0      0      0   \n",
       "3709  ...      0      0      0      0      0      0      0      0      0   \n",
       "3710  ...      0      0      0      0      0      0      0      0      0   \n",
       "3711  ...      0      0      0      0      0      0      0      0      0   \n",
       "3712  ...      0      0      0      0      0      0      0      0      0   \n",
       "\n",
       "      10464  \n",
       "0         0  \n",
       "1         0  \n",
       "2         0  \n",
       "3         0  \n",
       "4         0  \n",
       "...     ...  \n",
       "3708      0  \n",
       "3709      0  \n",
       "3710      0  \n",
       "3711      0  \n",
       "3712      0  \n",
       "\n",
       "[3713 rows x 10465 columns]"
      ]
     },
     "execution_count": 278,
     "metadata": {},
     "output_type": "execute_result"
    }
   ],
   "source": [
    "df_matrix"
   ]
  },
  {
   "cell_type": "code",
   "execution_count": 279,
   "id": "b98d5441",
   "metadata": {},
   "outputs": [
    {
     "name": "stdout",
     "output_type": "stream",
     "text": [
      "1\n",
      "1\n",
      "1\n",
      "1\n",
      "1\n",
      "1\n",
      "1\n"
     ]
    }
   ],
   "source": [
    "# 해당되는 키워드에 대해 모두 1의 값이 들어갔는지 확인\n",
    "for i in best2.loc[2, '키워드']:\n",
    "    print(df_matrix_c.iloc[2, list(word_dic).index(i)])"
   ]
  },
  {
   "cell_type": "markdown",
   "id": "b9b11d37",
   "metadata": {},
   "source": [
    "dataframe을 DTM matrix로 변환"
   ]
  },
  {
   "cell_type": "code",
   "execution_count": 280,
   "id": "f41b5fe0",
   "metadata": {},
   "outputs": [
    {
     "data": {
      "text/plain": [
       "array([[0, 0, 0, ..., 0, 0, 0],\n",
       "       [0, 0, 0, ..., 0, 0, 0],\n",
       "       [0, 0, 0, ..., 0, 0, 0],\n",
       "       ...,\n",
       "       [0, 0, 0, ..., 0, 0, 0],\n",
       "       [0, 0, 0, ..., 0, 0, 0],\n",
       "       [0, 0, 0, ..., 0, 0, 0]], dtype=int64)"
      ]
     },
     "execution_count": 280,
     "metadata": {},
     "output_type": "execute_result"
    }
   ],
   "source": [
    "book_mat = df_matrix.to_numpy()\n",
    "book_mat"
   ]
  },
  {
   "cell_type": "markdown",
   "id": "964348b6",
   "metadata": {},
   "source": [
    "### ver 1. '키워드' 사용"
   ]
  },
  {
   "cell_type": "code",
   "execution_count": 283,
   "id": "9683f07e",
   "metadata": {},
   "outputs": [],
   "source": [
    "df_matrix_1 = vectorize(best2, '키워드')"
   ]
  },
  {
   "cell_type": "code",
   "execution_count": 284,
   "id": "ed77e8e6",
   "metadata": {},
   "outputs": [
    {
     "data": {
      "text/html": [
       "<div>\n",
       "<style scoped>\n",
       "    .dataframe tbody tr th:only-of-type {\n",
       "        vertical-align: middle;\n",
       "    }\n",
       "\n",
       "    .dataframe tbody tr th {\n",
       "        vertical-align: top;\n",
       "    }\n",
       "\n",
       "    .dataframe thead th {\n",
       "        text-align: right;\n",
       "    }\n",
       "</style>\n",
       "<table border=\"1\" class=\"dataframe\">\n",
       "  <thead>\n",
       "    <tr style=\"text-align: right;\">\n",
       "      <th></th>\n",
       "      <th>0</th>\n",
       "      <th>1</th>\n",
       "      <th>2</th>\n",
       "      <th>3</th>\n",
       "      <th>4</th>\n",
       "      <th>5</th>\n",
       "      <th>6</th>\n",
       "      <th>7</th>\n",
       "      <th>8</th>\n",
       "      <th>9</th>\n",
       "      <th>...</th>\n",
       "      <th>10455</th>\n",
       "      <th>10456</th>\n",
       "      <th>10457</th>\n",
       "      <th>10458</th>\n",
       "      <th>10459</th>\n",
       "      <th>10460</th>\n",
       "      <th>10461</th>\n",
       "      <th>10462</th>\n",
       "      <th>10463</th>\n",
       "      <th>10464</th>\n",
       "    </tr>\n",
       "  </thead>\n",
       "  <tbody>\n",
       "    <tr>\n",
       "      <th>0</th>\n",
       "      <td>0</td>\n",
       "      <td>0</td>\n",
       "      <td>0</td>\n",
       "      <td>0</td>\n",
       "      <td>0</td>\n",
       "      <td>0</td>\n",
       "      <td>0</td>\n",
       "      <td>0</td>\n",
       "      <td>0</td>\n",
       "      <td>0</td>\n",
       "      <td>...</td>\n",
       "      <td>0</td>\n",
       "      <td>0</td>\n",
       "      <td>0</td>\n",
       "      <td>0</td>\n",
       "      <td>0</td>\n",
       "      <td>0</td>\n",
       "      <td>0</td>\n",
       "      <td>0</td>\n",
       "      <td>0</td>\n",
       "      <td>0</td>\n",
       "    </tr>\n",
       "    <tr>\n",
       "      <th>1</th>\n",
       "      <td>0</td>\n",
       "      <td>0</td>\n",
       "      <td>0</td>\n",
       "      <td>0</td>\n",
       "      <td>0</td>\n",
       "      <td>0</td>\n",
       "      <td>0</td>\n",
       "      <td>0</td>\n",
       "      <td>0</td>\n",
       "      <td>0</td>\n",
       "      <td>...</td>\n",
       "      <td>0</td>\n",
       "      <td>0</td>\n",
       "      <td>0</td>\n",
       "      <td>0</td>\n",
       "      <td>0</td>\n",
       "      <td>0</td>\n",
       "      <td>0</td>\n",
       "      <td>0</td>\n",
       "      <td>0</td>\n",
       "      <td>0</td>\n",
       "    </tr>\n",
       "    <tr>\n",
       "      <th>2</th>\n",
       "      <td>0</td>\n",
       "      <td>0</td>\n",
       "      <td>0</td>\n",
       "      <td>0</td>\n",
       "      <td>0</td>\n",
       "      <td>0</td>\n",
       "      <td>0</td>\n",
       "      <td>0</td>\n",
       "      <td>0</td>\n",
       "      <td>0</td>\n",
       "      <td>...</td>\n",
       "      <td>0</td>\n",
       "      <td>0</td>\n",
       "      <td>0</td>\n",
       "      <td>0</td>\n",
       "      <td>0</td>\n",
       "      <td>0</td>\n",
       "      <td>0</td>\n",
       "      <td>0</td>\n",
       "      <td>0</td>\n",
       "      <td>0</td>\n",
       "    </tr>\n",
       "    <tr>\n",
       "      <th>3</th>\n",
       "      <td>0</td>\n",
       "      <td>0</td>\n",
       "      <td>0</td>\n",
       "      <td>0</td>\n",
       "      <td>0</td>\n",
       "      <td>0</td>\n",
       "      <td>0</td>\n",
       "      <td>0</td>\n",
       "      <td>0</td>\n",
       "      <td>0</td>\n",
       "      <td>...</td>\n",
       "      <td>0</td>\n",
       "      <td>0</td>\n",
       "      <td>0</td>\n",
       "      <td>0</td>\n",
       "      <td>0</td>\n",
       "      <td>1</td>\n",
       "      <td>0</td>\n",
       "      <td>0</td>\n",
       "      <td>0</td>\n",
       "      <td>0</td>\n",
       "    </tr>\n",
       "    <tr>\n",
       "      <th>4</th>\n",
       "      <td>0</td>\n",
       "      <td>0</td>\n",
       "      <td>0</td>\n",
       "      <td>0</td>\n",
       "      <td>0</td>\n",
       "      <td>0</td>\n",
       "      <td>0</td>\n",
       "      <td>0</td>\n",
       "      <td>0</td>\n",
       "      <td>0</td>\n",
       "      <td>...</td>\n",
       "      <td>0</td>\n",
       "      <td>0</td>\n",
       "      <td>0</td>\n",
       "      <td>0</td>\n",
       "      <td>0</td>\n",
       "      <td>0</td>\n",
       "      <td>0</td>\n",
       "      <td>0</td>\n",
       "      <td>0</td>\n",
       "      <td>0</td>\n",
       "    </tr>\n",
       "    <tr>\n",
       "      <th>...</th>\n",
       "      <td>...</td>\n",
       "      <td>...</td>\n",
       "      <td>...</td>\n",
       "      <td>...</td>\n",
       "      <td>...</td>\n",
       "      <td>...</td>\n",
       "      <td>...</td>\n",
       "      <td>...</td>\n",
       "      <td>...</td>\n",
       "      <td>...</td>\n",
       "      <td>...</td>\n",
       "      <td>...</td>\n",
       "      <td>...</td>\n",
       "      <td>...</td>\n",
       "      <td>...</td>\n",
       "      <td>...</td>\n",
       "      <td>...</td>\n",
       "      <td>...</td>\n",
       "      <td>...</td>\n",
       "      <td>...</td>\n",
       "      <td>...</td>\n",
       "    </tr>\n",
       "    <tr>\n",
       "      <th>3708</th>\n",
       "      <td>0</td>\n",
       "      <td>0</td>\n",
       "      <td>0</td>\n",
       "      <td>0</td>\n",
       "      <td>0</td>\n",
       "      <td>0</td>\n",
       "      <td>0</td>\n",
       "      <td>0</td>\n",
       "      <td>0</td>\n",
       "      <td>0</td>\n",
       "      <td>...</td>\n",
       "      <td>0</td>\n",
       "      <td>0</td>\n",
       "      <td>0</td>\n",
       "      <td>0</td>\n",
       "      <td>0</td>\n",
       "      <td>0</td>\n",
       "      <td>0</td>\n",
       "      <td>0</td>\n",
       "      <td>0</td>\n",
       "      <td>0</td>\n",
       "    </tr>\n",
       "    <tr>\n",
       "      <th>3709</th>\n",
       "      <td>0</td>\n",
       "      <td>0</td>\n",
       "      <td>0</td>\n",
       "      <td>0</td>\n",
       "      <td>0</td>\n",
       "      <td>0</td>\n",
       "      <td>0</td>\n",
       "      <td>0</td>\n",
       "      <td>0</td>\n",
       "      <td>0</td>\n",
       "      <td>...</td>\n",
       "      <td>0</td>\n",
       "      <td>0</td>\n",
       "      <td>0</td>\n",
       "      <td>0</td>\n",
       "      <td>0</td>\n",
       "      <td>0</td>\n",
       "      <td>0</td>\n",
       "      <td>0</td>\n",
       "      <td>0</td>\n",
       "      <td>0</td>\n",
       "    </tr>\n",
       "    <tr>\n",
       "      <th>3710</th>\n",
       "      <td>0</td>\n",
       "      <td>0</td>\n",
       "      <td>0</td>\n",
       "      <td>0</td>\n",
       "      <td>0</td>\n",
       "      <td>0</td>\n",
       "      <td>0</td>\n",
       "      <td>0</td>\n",
       "      <td>0</td>\n",
       "      <td>0</td>\n",
       "      <td>...</td>\n",
       "      <td>0</td>\n",
       "      <td>0</td>\n",
       "      <td>0</td>\n",
       "      <td>0</td>\n",
       "      <td>0</td>\n",
       "      <td>0</td>\n",
       "      <td>0</td>\n",
       "      <td>0</td>\n",
       "      <td>0</td>\n",
       "      <td>0</td>\n",
       "    </tr>\n",
       "    <tr>\n",
       "      <th>3711</th>\n",
       "      <td>0</td>\n",
       "      <td>0</td>\n",
       "      <td>0</td>\n",
       "      <td>0</td>\n",
       "      <td>0</td>\n",
       "      <td>0</td>\n",
       "      <td>0</td>\n",
       "      <td>0</td>\n",
       "      <td>0</td>\n",
       "      <td>0</td>\n",
       "      <td>...</td>\n",
       "      <td>0</td>\n",
       "      <td>0</td>\n",
       "      <td>0</td>\n",
       "      <td>0</td>\n",
       "      <td>0</td>\n",
       "      <td>0</td>\n",
       "      <td>0</td>\n",
       "      <td>0</td>\n",
       "      <td>0</td>\n",
       "      <td>0</td>\n",
       "    </tr>\n",
       "    <tr>\n",
       "      <th>3712</th>\n",
       "      <td>0</td>\n",
       "      <td>0</td>\n",
       "      <td>0</td>\n",
       "      <td>0</td>\n",
       "      <td>0</td>\n",
       "      <td>0</td>\n",
       "      <td>0</td>\n",
       "      <td>0</td>\n",
       "      <td>0</td>\n",
       "      <td>0</td>\n",
       "      <td>...</td>\n",
       "      <td>0</td>\n",
       "      <td>0</td>\n",
       "      <td>0</td>\n",
       "      <td>0</td>\n",
       "      <td>0</td>\n",
       "      <td>0</td>\n",
       "      <td>0</td>\n",
       "      <td>0</td>\n",
       "      <td>0</td>\n",
       "      <td>0</td>\n",
       "    </tr>\n",
       "  </tbody>\n",
       "</table>\n",
       "<p>3713 rows × 10465 columns</p>\n",
       "</div>"
      ],
      "text/plain": [
       "      0      1      2      3      4      5      6      7      8      9      \\\n",
       "0         0      0      0      0      0      0      0      0      0      0   \n",
       "1         0      0      0      0      0      0      0      0      0      0   \n",
       "2         0      0      0      0      0      0      0      0      0      0   \n",
       "3         0      0      0      0      0      0      0      0      0      0   \n",
       "4         0      0      0      0      0      0      0      0      0      0   \n",
       "...     ...    ...    ...    ...    ...    ...    ...    ...    ...    ...   \n",
       "3708      0      0      0      0      0      0      0      0      0      0   \n",
       "3709      0      0      0      0      0      0      0      0      0      0   \n",
       "3710      0      0      0      0      0      0      0      0      0      0   \n",
       "3711      0      0      0      0      0      0      0      0      0      0   \n",
       "3712      0      0      0      0      0      0      0      0      0      0   \n",
       "\n",
       "      ...  10455  10456  10457  10458  10459  10460  10461  10462  10463  \\\n",
       "0     ...      0      0      0      0      0      0      0      0      0   \n",
       "1     ...      0      0      0      0      0      0      0      0      0   \n",
       "2     ...      0      0      0      0      0      0      0      0      0   \n",
       "3     ...      0      0      0      0      0      1      0      0      0   \n",
       "4     ...      0      0      0      0      0      0      0      0      0   \n",
       "...   ...    ...    ...    ...    ...    ...    ...    ...    ...    ...   \n",
       "3708  ...      0      0      0      0      0      0      0      0      0   \n",
       "3709  ...      0      0      0      0      0      0      0      0      0   \n",
       "3710  ...      0      0      0      0      0      0      0      0      0   \n",
       "3711  ...      0      0      0      0      0      0      0      0      0   \n",
       "3712  ...      0      0      0      0      0      0      0      0      0   \n",
       "\n",
       "      10464  \n",
       "0         0  \n",
       "1         0  \n",
       "2         0  \n",
       "3         0  \n",
       "4         0  \n",
       "...     ...  \n",
       "3708      0  \n",
       "3709      0  \n",
       "3710      0  \n",
       "3711      0  \n",
       "3712      0  \n",
       "\n",
       "[3713 rows x 10465 columns]"
      ]
     },
     "execution_count": 284,
     "metadata": {},
     "output_type": "execute_result"
    }
   ],
   "source": [
    "df_matrix_1.reset_index(drop=True, inplace=True)\n",
    "df_matrix_1"
   ]
  },
  {
   "cell_type": "code",
   "execution_count": 285,
   "id": "a29ff133",
   "metadata": {},
   "outputs": [
    {
     "data": {
      "text/plain": [
       "array([[0, 0, 0, ..., 0, 0, 0],\n",
       "       [0, 0, 0, ..., 0, 0, 0],\n",
       "       [0, 0, 0, ..., 0, 0, 0],\n",
       "       ...,\n",
       "       [0, 0, 0, ..., 0, 0, 0],\n",
       "       [0, 0, 0, ..., 0, 0, 0],\n",
       "       [0, 0, 0, ..., 0, 0, 0]], dtype=int64)"
      ]
     },
     "execution_count": 285,
     "metadata": {},
     "output_type": "execute_result"
    }
   ],
   "source": [
    "book_mat_1 = df_matrix_1.to_numpy()\n",
    "book_mat_1"
   ]
  },
  {
   "cell_type": "markdown",
   "id": "68730d58",
   "metadata": {},
   "source": [
    "### ver 1. '상품명' 사용"
   ]
  },
  {
   "cell_type": "code",
   "execution_count": 286,
   "id": "eea97d2e",
   "metadata": {},
   "outputs": [],
   "source": [
    "df_matrix_2 = vectorize(best2, '상품명')"
   ]
  },
  {
   "cell_type": "code",
   "execution_count": 287,
   "id": "99d349b3",
   "metadata": {},
   "outputs": [
    {
     "data": {
      "text/html": [
       "<div>\n",
       "<style scoped>\n",
       "    .dataframe tbody tr th:only-of-type {\n",
       "        vertical-align: middle;\n",
       "    }\n",
       "\n",
       "    .dataframe tbody tr th {\n",
       "        vertical-align: top;\n",
       "    }\n",
       "\n",
       "    .dataframe thead th {\n",
       "        text-align: right;\n",
       "    }\n",
       "</style>\n",
       "<table border=\"1\" class=\"dataframe\">\n",
       "  <thead>\n",
       "    <tr style=\"text-align: right;\">\n",
       "      <th></th>\n",
       "      <th>0</th>\n",
       "      <th>1</th>\n",
       "      <th>2</th>\n",
       "      <th>3</th>\n",
       "      <th>4</th>\n",
       "      <th>5</th>\n",
       "      <th>6</th>\n",
       "      <th>7</th>\n",
       "      <th>8</th>\n",
       "      <th>9</th>\n",
       "      <th>...</th>\n",
       "      <th>10455</th>\n",
       "      <th>10456</th>\n",
       "      <th>10457</th>\n",
       "      <th>10458</th>\n",
       "      <th>10459</th>\n",
       "      <th>10460</th>\n",
       "      <th>10461</th>\n",
       "      <th>10462</th>\n",
       "      <th>10463</th>\n",
       "      <th>10464</th>\n",
       "    </tr>\n",
       "  </thead>\n",
       "  <tbody>\n",
       "    <tr>\n",
       "      <th>0</th>\n",
       "      <td>0</td>\n",
       "      <td>0</td>\n",
       "      <td>0</td>\n",
       "      <td>0</td>\n",
       "      <td>0</td>\n",
       "      <td>0</td>\n",
       "      <td>0</td>\n",
       "      <td>0</td>\n",
       "      <td>0</td>\n",
       "      <td>0</td>\n",
       "      <td>...</td>\n",
       "      <td>0</td>\n",
       "      <td>0</td>\n",
       "      <td>0</td>\n",
       "      <td>0</td>\n",
       "      <td>0</td>\n",
       "      <td>0</td>\n",
       "      <td>0</td>\n",
       "      <td>0</td>\n",
       "      <td>0</td>\n",
       "      <td>0</td>\n",
       "    </tr>\n",
       "    <tr>\n",
       "      <th>1</th>\n",
       "      <td>0</td>\n",
       "      <td>0</td>\n",
       "      <td>0</td>\n",
       "      <td>0</td>\n",
       "      <td>0</td>\n",
       "      <td>0</td>\n",
       "      <td>0</td>\n",
       "      <td>0</td>\n",
       "      <td>0</td>\n",
       "      <td>0</td>\n",
       "      <td>...</td>\n",
       "      <td>0</td>\n",
       "      <td>0</td>\n",
       "      <td>0</td>\n",
       "      <td>0</td>\n",
       "      <td>0</td>\n",
       "      <td>0</td>\n",
       "      <td>0</td>\n",
       "      <td>0</td>\n",
       "      <td>0</td>\n",
       "      <td>0</td>\n",
       "    </tr>\n",
       "    <tr>\n",
       "      <th>2</th>\n",
       "      <td>0</td>\n",
       "      <td>0</td>\n",
       "      <td>0</td>\n",
       "      <td>0</td>\n",
       "      <td>0</td>\n",
       "      <td>0</td>\n",
       "      <td>0</td>\n",
       "      <td>0</td>\n",
       "      <td>0</td>\n",
       "      <td>0</td>\n",
       "      <td>...</td>\n",
       "      <td>0</td>\n",
       "      <td>0</td>\n",
       "      <td>0</td>\n",
       "      <td>0</td>\n",
       "      <td>0</td>\n",
       "      <td>0</td>\n",
       "      <td>0</td>\n",
       "      <td>0</td>\n",
       "      <td>0</td>\n",
       "      <td>0</td>\n",
       "    </tr>\n",
       "    <tr>\n",
       "      <th>3</th>\n",
       "      <td>0</td>\n",
       "      <td>0</td>\n",
       "      <td>0</td>\n",
       "      <td>0</td>\n",
       "      <td>0</td>\n",
       "      <td>0</td>\n",
       "      <td>0</td>\n",
       "      <td>0</td>\n",
       "      <td>0</td>\n",
       "      <td>0</td>\n",
       "      <td>...</td>\n",
       "      <td>0</td>\n",
       "      <td>0</td>\n",
       "      <td>0</td>\n",
       "      <td>0</td>\n",
       "      <td>0</td>\n",
       "      <td>0</td>\n",
       "      <td>0</td>\n",
       "      <td>0</td>\n",
       "      <td>0</td>\n",
       "      <td>0</td>\n",
       "    </tr>\n",
       "    <tr>\n",
       "      <th>4</th>\n",
       "      <td>0</td>\n",
       "      <td>0</td>\n",
       "      <td>0</td>\n",
       "      <td>0</td>\n",
       "      <td>0</td>\n",
       "      <td>0</td>\n",
       "      <td>0</td>\n",
       "      <td>0</td>\n",
       "      <td>0</td>\n",
       "      <td>0</td>\n",
       "      <td>...</td>\n",
       "      <td>0</td>\n",
       "      <td>0</td>\n",
       "      <td>0</td>\n",
       "      <td>0</td>\n",
       "      <td>0</td>\n",
       "      <td>0</td>\n",
       "      <td>0</td>\n",
       "      <td>0</td>\n",
       "      <td>0</td>\n",
       "      <td>0</td>\n",
       "    </tr>\n",
       "    <tr>\n",
       "      <th>...</th>\n",
       "      <td>...</td>\n",
       "      <td>...</td>\n",
       "      <td>...</td>\n",
       "      <td>...</td>\n",
       "      <td>...</td>\n",
       "      <td>...</td>\n",
       "      <td>...</td>\n",
       "      <td>...</td>\n",
       "      <td>...</td>\n",
       "      <td>...</td>\n",
       "      <td>...</td>\n",
       "      <td>...</td>\n",
       "      <td>...</td>\n",
       "      <td>...</td>\n",
       "      <td>...</td>\n",
       "      <td>...</td>\n",
       "      <td>...</td>\n",
       "      <td>...</td>\n",
       "      <td>...</td>\n",
       "      <td>...</td>\n",
       "      <td>...</td>\n",
       "    </tr>\n",
       "    <tr>\n",
       "      <th>3708</th>\n",
       "      <td>0</td>\n",
       "      <td>0</td>\n",
       "      <td>0</td>\n",
       "      <td>0</td>\n",
       "      <td>0</td>\n",
       "      <td>0</td>\n",
       "      <td>0</td>\n",
       "      <td>0</td>\n",
       "      <td>0</td>\n",
       "      <td>0</td>\n",
       "      <td>...</td>\n",
       "      <td>0</td>\n",
       "      <td>0</td>\n",
       "      <td>0</td>\n",
       "      <td>0</td>\n",
       "      <td>0</td>\n",
       "      <td>0</td>\n",
       "      <td>0</td>\n",
       "      <td>0</td>\n",
       "      <td>0</td>\n",
       "      <td>0</td>\n",
       "    </tr>\n",
       "    <tr>\n",
       "      <th>3709</th>\n",
       "      <td>0</td>\n",
       "      <td>0</td>\n",
       "      <td>0</td>\n",
       "      <td>0</td>\n",
       "      <td>0</td>\n",
       "      <td>0</td>\n",
       "      <td>0</td>\n",
       "      <td>0</td>\n",
       "      <td>0</td>\n",
       "      <td>0</td>\n",
       "      <td>...</td>\n",
       "      <td>0</td>\n",
       "      <td>0</td>\n",
       "      <td>0</td>\n",
       "      <td>0</td>\n",
       "      <td>0</td>\n",
       "      <td>0</td>\n",
       "      <td>0</td>\n",
       "      <td>0</td>\n",
       "      <td>0</td>\n",
       "      <td>0</td>\n",
       "    </tr>\n",
       "    <tr>\n",
       "      <th>3710</th>\n",
       "      <td>0</td>\n",
       "      <td>0</td>\n",
       "      <td>0</td>\n",
       "      <td>0</td>\n",
       "      <td>0</td>\n",
       "      <td>0</td>\n",
       "      <td>0</td>\n",
       "      <td>0</td>\n",
       "      <td>0</td>\n",
       "      <td>0</td>\n",
       "      <td>...</td>\n",
       "      <td>0</td>\n",
       "      <td>0</td>\n",
       "      <td>0</td>\n",
       "      <td>0</td>\n",
       "      <td>0</td>\n",
       "      <td>0</td>\n",
       "      <td>0</td>\n",
       "      <td>0</td>\n",
       "      <td>0</td>\n",
       "      <td>0</td>\n",
       "    </tr>\n",
       "    <tr>\n",
       "      <th>3711</th>\n",
       "      <td>0</td>\n",
       "      <td>0</td>\n",
       "      <td>0</td>\n",
       "      <td>0</td>\n",
       "      <td>0</td>\n",
       "      <td>0</td>\n",
       "      <td>0</td>\n",
       "      <td>0</td>\n",
       "      <td>0</td>\n",
       "      <td>0</td>\n",
       "      <td>...</td>\n",
       "      <td>0</td>\n",
       "      <td>0</td>\n",
       "      <td>0</td>\n",
       "      <td>0</td>\n",
       "      <td>0</td>\n",
       "      <td>0</td>\n",
       "      <td>0</td>\n",
       "      <td>0</td>\n",
       "      <td>0</td>\n",
       "      <td>0</td>\n",
       "    </tr>\n",
       "    <tr>\n",
       "      <th>3712</th>\n",
       "      <td>0</td>\n",
       "      <td>0</td>\n",
       "      <td>0</td>\n",
       "      <td>0</td>\n",
       "      <td>0</td>\n",
       "      <td>0</td>\n",
       "      <td>0</td>\n",
       "      <td>0</td>\n",
       "      <td>0</td>\n",
       "      <td>0</td>\n",
       "      <td>...</td>\n",
       "      <td>0</td>\n",
       "      <td>0</td>\n",
       "      <td>0</td>\n",
       "      <td>0</td>\n",
       "      <td>0</td>\n",
       "      <td>0</td>\n",
       "      <td>0</td>\n",
       "      <td>0</td>\n",
       "      <td>0</td>\n",
       "      <td>0</td>\n",
       "    </tr>\n",
       "  </tbody>\n",
       "</table>\n",
       "<p>3713 rows × 10465 columns</p>\n",
       "</div>"
      ],
      "text/plain": [
       "      0      1      2      3      4      5      6      7      8      9      \\\n",
       "0         0      0      0      0      0      0      0      0      0      0   \n",
       "1         0      0      0      0      0      0      0      0      0      0   \n",
       "2         0      0      0      0      0      0      0      0      0      0   \n",
       "3         0      0      0      0      0      0      0      0      0      0   \n",
       "4         0      0      0      0      0      0      0      0      0      0   \n",
       "...     ...    ...    ...    ...    ...    ...    ...    ...    ...    ...   \n",
       "3708      0      0      0      0      0      0      0      0      0      0   \n",
       "3709      0      0      0      0      0      0      0      0      0      0   \n",
       "3710      0      0      0      0      0      0      0      0      0      0   \n",
       "3711      0      0      0      0      0      0      0      0      0      0   \n",
       "3712      0      0      0      0      0      0      0      0      0      0   \n",
       "\n",
       "      ...  10455  10456  10457  10458  10459  10460  10461  10462  10463  \\\n",
       "0     ...      0      0      0      0      0      0      0      0      0   \n",
       "1     ...      0      0      0      0      0      0      0      0      0   \n",
       "2     ...      0      0      0      0      0      0      0      0      0   \n",
       "3     ...      0      0      0      0      0      0      0      0      0   \n",
       "4     ...      0      0      0      0      0      0      0      0      0   \n",
       "...   ...    ...    ...    ...    ...    ...    ...    ...    ...    ...   \n",
       "3708  ...      0      0      0      0      0      0      0      0      0   \n",
       "3709  ...      0      0      0      0      0      0      0      0      0   \n",
       "3710  ...      0      0      0      0      0      0      0      0      0   \n",
       "3711  ...      0      0      0      0      0      0      0      0      0   \n",
       "3712  ...      0      0      0      0      0      0      0      0      0   \n",
       "\n",
       "      10464  \n",
       "0         0  \n",
       "1         0  \n",
       "2         0  \n",
       "3         0  \n",
       "4         0  \n",
       "...     ...  \n",
       "3708      0  \n",
       "3709      0  \n",
       "3710      0  \n",
       "3711      0  \n",
       "3712      0  \n",
       "\n",
       "[3713 rows x 10465 columns]"
      ]
     },
     "execution_count": 287,
     "metadata": {},
     "output_type": "execute_result"
    }
   ],
   "source": [
    "df_matrix_2.reset_index(drop=True, inplace=True)\n",
    "df_matrix_2"
   ]
  },
  {
   "cell_type": "code",
   "execution_count": 288,
   "id": "83ddb4fb",
   "metadata": {},
   "outputs": [
    {
     "data": {
      "text/plain": [
       "array([[0, 0, 0, ..., 0, 0, 0],\n",
       "       [0, 0, 0, ..., 0, 0, 0],\n",
       "       [0, 0, 0, ..., 0, 0, 0],\n",
       "       ...,\n",
       "       [0, 0, 0, ..., 0, 0, 0],\n",
       "       [0, 0, 0, ..., 0, 0, 0],\n",
       "       [0, 0, 0, ..., 0, 0, 0]], dtype=int64)"
      ]
     },
     "execution_count": 288,
     "metadata": {},
     "output_type": "execute_result"
    }
   ],
   "source": [
    "book_mat_2 = df_matrix_2.to_numpy()\n",
    "book_mat_2"
   ]
  },
  {
   "cell_type": "code",
   "execution_count": null,
   "id": "87ff7cc6",
   "metadata": {},
   "outputs": [],
   "source": []
  },
  {
   "cell_type": "markdown",
   "id": "dd378ed5",
   "metadata": {},
   "source": [
    "### 코사인 유사도 계산\n",
    "\n",
    ": document-term matrix의 각 행 사이 코사인 유사도 계산"
   ]
  },
  {
   "cell_type": "code",
   "execution_count": 289,
   "id": "7a0e8210",
   "metadata": {},
   "outputs": [],
   "source": [
    "cosine_sim_re = cosine_similarity(book_mat)\n",
    "cosine_sim_1_re = cosine_similarity(book_mat_1)\n",
    "cosine_sim_2_re = cosine_similarity(book_mat_2)"
   ]
  },
  {
   "cell_type": "code",
   "execution_count": 290,
   "id": "0b6e0efd",
   "metadata": {},
   "outputs": [
    {
     "name": "stdout",
     "output_type": "stream",
     "text": [
      "(3713, 3713)\n",
      "[[1.         0.08451543 0.         ... 0.         0.         0.        ]\n",
      " [0.08451543 1.         0.3678836  ... 0.         0.         0.        ]\n",
      " [0.         0.3678836  1.         ... 0.         0.         0.        ]\n",
      " ...\n",
      " [0.         0.0805823  0.         ... 0.         0.         0.        ]\n",
      " [0.         0.0805823  0.06917145 ... 0.         0.         0.        ]\n",
      " [0.         0.         0.         ... 0.         0.         0.070014  ]]\n"
     ]
    }
   ],
   "source": [
    "print(cosine_sim_re.shape)\n",
    "print(cosine_sim_re[:10])"
   ]
  },
  {
   "cell_type": "markdown",
   "id": "883318bb",
   "metadata": {},
   "source": [
    "### 유사도 가중치 설정\n",
    "\n",
    "코사인 유사도 변수\n",
    "> cosine_sim_re -> 책소개 키워드  \n",
    "> cosine_sim_1_re -> 키워드 Pick  \n",
    "> cosine_sim_2_re -> 상품명  "
   ]
  },
  {
   "cell_type": "code",
   "execution_count": 291,
   "id": "9a45aee0",
   "metadata": {},
   "outputs": [
    {
     "data": {
      "text/plain": [
       "array([[1.        , 0.10523474, 0.07142857, ..., 0.        , 0.        ,\n",
       "        0.        ],\n",
       "       [0.10523474, 1.        , 0.29001058, ..., 0.        , 0.        ,\n",
       "        0.        ],\n",
       "       [0.07142857, 0.29001058, 1.        , ..., 0.        , 0.        ,\n",
       "        0.        ],\n",
       "       ...,\n",
       "       [0.        , 0.        , 0.        , ..., 1.        , 0.07142857,\n",
       "        0.07142857],\n",
       "       [0.        , 0.        , 0.        , ..., 0.07142857, 1.        ,\n",
       "        0.07142857],\n",
       "       [0.        , 0.        , 0.        , ..., 0.07142857, 0.07142857,\n",
       "        1.        ]])"
      ]
     },
     "execution_count": 291,
     "metadata": {},
     "output_type": "execute_result"
    }
   ],
   "source": [
    "sim_re = 0.4*cosine_sim_re + 0.5*cosine_sim_1_re + 0.1*cosine_sim_2_re\n",
    "sim_re"
   ]
  },
  {
   "cell_type": "markdown",
   "id": "45e37b56",
   "metadata": {},
   "source": [
    "## 추천리스트 작성\n",
    "\n",
    ": 상위 top_n개의 유사 도서를 추천해는 함수 정의"
   ]
  },
  {
   "cell_type": "code",
   "execution_count": 292,
   "id": "0f36a382",
   "metadata": {},
   "outputs": [],
   "source": [
    "# 궁금한 도서의 index, 추천 받을 책 개수 입력\n",
    "query_index = 0\n",
    "top_k = 10"
   ]
  },
  {
   "cell_type": "code",
   "execution_count": 293,
   "id": "8a60a3b2",
   "metadata": {},
   "outputs": [
    {
     "name": "stdout",
     "output_type": "stream",
     "text": [
      "검색한 콘텐츠 : 위기의 역사\n",
      "\n",
      "출력한 콘텐츠\n",
      "[   0  845  244 ... 2422 2421 1856]\n",
      "845                부채의 역습\n",
      "244       세계화의 종말과 새로운 시작\n",
      "487         경제 상식사전(2022)\n",
      "107                초거대 위협\n",
      "757    난처한 경제 이야기 3: 금융 편\n",
      "806                투자의 모험\n",
      "553              다이버시티 파워\n",
      "298           미국 자본주의의 역사\n",
      "150           경제지표를 읽는 시간\n",
      "108        돈을 찍어내는 제왕, 연준\n",
      "Name: 상품명, dtype: object\n"
     ]
    }
   ],
   "source": [
    "find_sim_book(best, sim_re, query_index, top_k)"
   ]
  },
  {
   "cell_type": "code",
   "execution_count": null,
   "id": "1994234a",
   "metadata": {},
   "outputs": [],
   "source": []
  },
  {
   "cell_type": "markdown",
   "id": "62c2d9b1",
   "metadata": {},
   "source": [
    "## 생성된 DTM과 코사인 유사도 matrix 총정리\n",
    "\n",
    "방법 1. CountVectorizer 이용한 벡터화\n",
    "\n",
    "> ver 1. cosine_sim / book_mat_keyword  \n",
    "> ver 2. cosine_sim_1 / book_mat_keyword_1  \n",
    "> ver 3. cosine_sim_2 / book_mat_keyword_2\n",
    "\n",
    "\n",
    "방법 2. 원-핫 인코딩을 이용한 벡터화\n",
    "\n",
    "> ver 1. cosine_sim_re / book_mat\n",
    "> ver 2. cosine_sim_1_re / book_mat_1  \n",
    "> ver 3. cosine_sim_2_re / book_mat_2"
   ]
  },
  {
   "cell_type": "markdown",
   "id": "9d20d719",
   "metadata": {},
   "source": [
    "### 방법 및 버전에 따른 추천 결과 비교"
   ]
  },
  {
   "cell_type": "code",
   "execution_count": 299,
   "id": "ed25e321",
   "metadata": {},
   "outputs": [],
   "source": [
    "query_index = 10\n",
    "top_k = 10"
   ]
  },
  {
   "cell_type": "code",
   "execution_count": 300,
   "id": "886584ca",
   "metadata": {},
   "outputs": [
    {
     "name": "stdout",
     "output_type": "stream",
     "text": [
      "검색한 콘텐츠 : 어떤 하락장에서도 살아남을 수 있는\n",
      "\n",
      "출력한 콘텐츠\n",
      "[  10  650  839 ... 2285 2284 3712]\n",
      "650            세력주 매매 공식\n",
      "839         이기는 투자의 심리법칙\n",
      "803     주식 대세판단 무작정 따라하기\n",
      "368    뉴욕주민의 진짜 미국식 주식투자\n",
      "867      일본 주식시장의 승부사들 1\n",
      "89           여의도 선수들의 비밀\n",
      "245          최강의 배당연금 투자\n",
      "481               투자의 원칙\n",
      "141        피터 린치의 투자 이야기\n",
      "563                   세력\n",
      "Name: 상품명, dtype: object\n"
     ]
    }
   ],
   "source": [
    "find_sim_book(best, sim, query_index, top_k)"
   ]
  },
  {
   "cell_type": "code",
   "execution_count": 301,
   "id": "d0e0e61c",
   "metadata": {},
   "outputs": [
    {
     "name": "stdout",
     "output_type": "stream",
     "text": [
      "검색한 콘텐츠 : 어떤 하락장에서도 살아남을 수 있는\n",
      "\n",
      "출력한 콘텐츠\n",
      "[  10  650  803 ... 1716 1715 3712]\n",
      "650            세력주 매매 공식\n",
      "803     주식 대세판단 무작정 따라하기\n",
      "368    뉴욕주민의 진짜 미국식 주식투자\n",
      "89           여의도 선수들의 비밀\n",
      "481               투자의 원칙\n",
      "839         이기는 투자의 심리법칙\n",
      "53          세력주의 신 100법칙\n",
      "867      일본 주식시장의 승부사들 1\n",
      "245          최강의 배당연금 투자\n",
      "319        살 때, 팔 때, 벌 때\n",
      "Name: 상품명, dtype: object\n"
     ]
    }
   ],
   "source": [
    "find_sim_book(best, sim_re, query_index, top_k)"
   ]
  },
  {
   "cell_type": "code",
   "execution_count": null,
   "id": "7e03275f",
   "metadata": {},
   "outputs": [],
   "source": []
  },
  {
   "cell_type": "code",
   "execution_count": 314,
   "id": "ac0940fc",
   "metadata": {},
   "outputs": [
    {
     "name": "stdout",
     "output_type": "stream",
     "text": [
      "검색한 콘텐츠 : 어린 왕자(Le Petit Prince)(교보문고 특별판)\n",
      "\n",
      "출력한 콘텐츠\n",
      "[2370 1975 2775 ... 1821 1820    0]\n",
      "1975                              어린 왕자\n",
      "2775                        셜록 홈즈 전집 세트\n",
      "1977                            노르웨이의 숲\n",
      "2284                코드612 누가 어린왕자를 죽였는가\n",
      "2684                              애린 왕자\n",
      "2251                                금각사\n",
      "2723                          어린왕자(미니북)\n",
      "2363                                이방인\n",
      "2045                        그리고 아무도 없었다\n",
      "2233    싯다르타(1922년 오리지널 초판본 표지디자인)(문고판)\n",
      "Name: 상품명, dtype: object\n"
     ]
    }
   ],
   "source": [
    "query_index = 2370\n",
    "top_k = 10\n",
    "find_sim_book(best, sim_re, query_index, top_k)"
   ]
  },
  {
   "cell_type": "code",
   "execution_count": null,
   "id": "cb7e5ebc",
   "metadata": {},
   "outputs": [],
   "source": []
  }
 ],
 "metadata": {
  "kernelspec": {
   "display_name": "Python 3 (ipykernel)",
   "language": "python",
   "name": "python3"
  },
  "language_info": {
   "codemirror_mode": {
    "name": "ipython",
    "version": 3
   },
   "file_extension": ".py",
   "mimetype": "text/x-python",
   "name": "python",
   "nbconvert_exporter": "python",
   "pygments_lexer": "ipython3",
   "version": "3.11.4"
  }
 },
 "nbformat": 4,
 "nbformat_minor": 5
}
