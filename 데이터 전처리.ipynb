{
 "cells": [
  {
   "cell_type": "code",
   "execution_count": 1,
   "id": "7e253408",
   "metadata": {},
   "outputs": [],
   "source": [
    "import pandas as pd\n",
    "import numpy as np\n",
    "import warnings\n",
    "warnings.filterwarnings('ignore')"
   ]
  },
  {
   "cell_type": "code",
   "execution_count": 2,
   "id": "a188f473",
   "metadata": {},
   "outputs": [],
   "source": [
    "path = 'C:/Users/82109/Desktop/deep daiv. 스터디/2주차'"
   ]
  },
  {
   "cell_type": "markdown",
   "id": "341dea1b",
   "metadata": {},
   "source": [
    "### 데이터 전처리\n",
    "\n",
    "- '책소개'와 '키워드픽'에서 결측치 다 제거하기\n",
    "- 분야 이름을 키워드로 추가하기"
   ]
  },
  {
   "cell_type": "markdown",
   "id": "79b35dce",
   "metadata": {},
   "source": [
    "#### 경제경영 분야"
   ]
  },
  {
   "cell_type": "code",
   "execution_count": 46,
   "id": "379e20ba",
   "metadata": {},
   "outputs": [
    {
     "data": {
      "text/html": [
       "<div>\n",
       "<style scoped>\n",
       "    .dataframe tbody tr th:only-of-type {\n",
       "        vertical-align: middle;\n",
       "    }\n",
       "\n",
       "    .dataframe tbody tr th {\n",
       "        vertical-align: top;\n",
       "    }\n",
       "\n",
       "    .dataframe thead th {\n",
       "        text-align: right;\n",
       "    }\n",
       "</style>\n",
       "<table border=\"1\" class=\"dataframe\">\n",
       "  <thead>\n",
       "    <tr style=\"text-align: right;\">\n",
       "      <th></th>\n",
       "      <th>상품명</th>\n",
       "      <th>책소개</th>\n",
       "      <th>키워드</th>\n",
       "    </tr>\n",
       "  </thead>\n",
       "  <tbody>\n",
       "    <tr>\n",
       "      <th>0</th>\n",
       "      <td>위기의 역사</td>\n",
       "      <td>40만 독자가 선택한 오건영의 글로벌 경제사 특강\\n누적 조회 수 550만 회 달성...</td>\n",
       "      <td>['금리', '모기지', '흥국', '저금리', '글로벌 금융 위기', '실리콘밸리']</td>\n",
       "    </tr>\n",
       "    <tr>\n",
       "      <th>1</th>\n",
       "      <td>대한민국 돈의 역사</td>\n",
       "      <td>남북 분단에서 코로나까지 대한민국 돈의 역사 총망라\\n국내 최고의 이코노미스트 홍춘...</td>\n",
       "      <td>[]</td>\n",
       "    </tr>\n",
       "    <tr>\n",
       "      <th>2</th>\n",
       "      <td>돈의 속성(300쇄 리커버에디션)</td>\n",
       "      <td>2020ㆍ2021ㆍ2022ㆍ2023 4년 연속 최장기 베스트셀러\\n80만 깨어있는 ...</td>\n",
       "      <td>['부자되는법', '종잣돈', '회장', '투자 원칙', '경제철학', '주식 시장']</td>\n",
       "    </tr>\n",
       "    <tr>\n",
       "      <th>3</th>\n",
       "      <td>부자의 그릇</td>\n",
       "      <td>수많은 젊은 부자가 꼽은 최고의 ‘부자학 입문서’ 『부자의 그릇』 양장 개정판\\n“...</td>\n",
       "      <td>['부자되는법', '신용', '소설 형식', '배트', '경제이야기', '사업 아이템']</td>\n",
       "    </tr>\n",
       "    <tr>\n",
       "      <th>4</th>\n",
       "      <td>사장학개론</td>\n",
       "      <td>이 책은 과거와 현재,\\n미래의 모든 사장을 위한 실무 지침서다\\n이 책은 한국과 ...</td>\n",
       "      <td>['창업', '매출', '직원', '장학', '기업인', '사업']</td>\n",
       "    </tr>\n",
       "    <tr>\n",
       "      <th>...</th>\n",
       "      <td>...</td>\n",
       "      <td>...</td>\n",
       "      <td>...</td>\n",
       "    </tr>\n",
       "    <tr>\n",
       "      <th>995</th>\n",
       "      <td>리더의 질문법</td>\n",
       "      <td>“최고의 리더십은 지시가 아닌 겸손한 질문에서 나온다”\\n\\n조직심리학의 대가, M...</td>\n",
       "      <td>['겸손', '상대방', '질문', '지시', '조직문화', '단언']</td>\n",
       "    </tr>\n",
       "    <tr>\n",
       "      <th>996</th>\n",
       "      <td>IFRS 회계원리</td>\n",
       "      <td>회계원리는 모든 회계의 기초입니다. 본서는 회계에 관한 기본개념들을 설명합니다. 본...</td>\n",
       "      <td>['중급', '지급 채무', '충당 부채', '복식부기', '금융 상품', '무형 ...</td>\n",
       "    </tr>\n",
       "    <tr>\n",
       "      <th>997</th>\n",
       "      <td>에스테틱 경영론</td>\n",
       "      <td>* 한국적인 고품격 에스테틱의 브랜딩!\\n* 에스테틱 업계의 상향 평준화를 선도할 ...</td>\n",
       "      <td>['창업', '피스트', '업계', '고품격', '블랑', '직영']</td>\n",
       "    </tr>\n",
       "    <tr>\n",
       "      <th>998</th>\n",
       "      <td>강남 되는 강북 부동산은 정해져 있다</td>\n",
       "      <td>돈 되는 서울시 도시개발계획 완전 분석!\\n‘서울시생활권계획’을 해설하는 유일한 책...</td>\n",
       "      <td>['수익', '투자처', '서울시', '실전 투자', '투자 전략', '입지론']</td>\n",
       "    </tr>\n",
       "    <tr>\n",
       "      <th>999</th>\n",
       "      <td>무패 장사</td>\n",
       "      <td>현장에서 배우고, 익히고, 자란\\n무패(無敗) 사장의 생생한 장사 현장 백서\\n끝나...</td>\n",
       "      <td>['매출', '장사', '고객', '손님', '출구', '경제경영']</td>\n",
       "    </tr>\n",
       "  </tbody>\n",
       "</table>\n",
       "<p>1000 rows × 3 columns</p>\n",
       "</div>"
      ],
      "text/plain": [
       "                      상품명                                                책소개  \\\n",
       "0                  위기의 역사  40만 독자가 선택한 오건영의 글로벌 경제사 특강\\n누적 조회 수 550만 회 달성...   \n",
       "1              대한민국 돈의 역사  남북 분단에서 코로나까지 대한민국 돈의 역사 총망라\\n국내 최고의 이코노미스트 홍춘...   \n",
       "2      돈의 속성(300쇄 리커버에디션)  2020ㆍ2021ㆍ2022ㆍ2023 4년 연속 최장기 베스트셀러\\n80만 깨어있는 ...   \n",
       "3                  부자의 그릇  수많은 젊은 부자가 꼽은 최고의 ‘부자학 입문서’ 『부자의 그릇』 양장 개정판\\n“...   \n",
       "4                   사장학개론  이 책은 과거와 현재,\\n미래의 모든 사장을 위한 실무 지침서다\\n이 책은 한국과 ...   \n",
       "..                    ...                                                ...   \n",
       "995               리더의 질문법  “최고의 리더십은 지시가 아닌 겸손한 질문에서 나온다”\\n\\n조직심리학의 대가, M...   \n",
       "996             IFRS 회계원리  회계원리는 모든 회계의 기초입니다. 본서는 회계에 관한 기본개념들을 설명합니다. 본...   \n",
       "997              에스테틱 경영론  * 한국적인 고품격 에스테틱의 브랜딩!\\n* 에스테틱 업계의 상향 평준화를 선도할 ...   \n",
       "998  강남 되는 강북 부동산은 정해져 있다  돈 되는 서울시 도시개발계획 완전 분석!\\n‘서울시생활권계획’을 해설하는 유일한 책...   \n",
       "999                 무패 장사  현장에서 배우고, 익히고, 자란\\n무패(無敗) 사장의 생생한 장사 현장 백서\\n끝나...   \n",
       "\n",
       "                                                   키워드  \n",
       "0     ['금리', '모기지', '흥국', '저금리', '글로벌 금융 위기', '실리콘밸리']  \n",
       "1                                                   []  \n",
       "2     ['부자되는법', '종잣돈', '회장', '투자 원칙', '경제철학', '주식 시장']  \n",
       "3    ['부자되는법', '신용', '소설 형식', '배트', '경제이야기', '사업 아이템']  \n",
       "4                ['창업', '매출', '직원', '장학', '기업인', '사업']  \n",
       "..                                                 ...  \n",
       "995            ['겸손', '상대방', '질문', '지시', '조직문화', '단언']  \n",
       "996  ['중급', '지급 채무', '충당 부채', '복식부기', '금융 상품', '무형 ...  \n",
       "997             ['창업', '피스트', '업계', '고품격', '블랑', '직영']  \n",
       "998      ['수익', '투자처', '서울시', '실전 투자', '투자 전략', '입지론']  \n",
       "999             ['매출', '장사', '고객', '손님', '출구', '경제경영']  \n",
       "\n",
       "[1000 rows x 3 columns]"
      ]
     },
     "execution_count": 46,
     "metadata": {},
     "output_type": "execute_result"
    }
   ],
   "source": [
    "경제경영_ori = pd.read_excel(path + '/크롤링/경제경영_키워드 Pick.xlsx')\n",
    "경제경영_ori = 경제경영_ori.iloc[:, 1:]\n",
    "경제경영_ori"
   ]
  },
  {
   "cell_type": "markdown",
   "id": "20c37a60",
   "metadata": {},
   "source": [
    "- 4권 '책소개' 없음\n",
    "- 60권 '키워드픽' 없음"
   ]
  },
  {
   "cell_type": "code",
   "execution_count": 48,
   "id": "696b66c1",
   "metadata": {},
   "outputs": [
    {
     "data": {
      "text/plain": [
       "4"
      ]
     },
     "execution_count": 48,
     "metadata": {},
     "output_type": "execute_result"
    }
   ],
   "source": [
    "len(경제경영_ori[경제경영_ori['책소개'].isnull()])"
   ]
  },
  {
   "cell_type": "code",
   "execution_count": 53,
   "id": "73cc92ea",
   "metadata": {},
   "outputs": [
    {
     "data": {
      "text/plain": [
       "60"
      ]
     },
     "execution_count": 53,
     "metadata": {},
     "output_type": "execute_result"
    }
   ],
   "source": [
    "len(경제경영_ori[경제경영_ori['키워드'].apply(lambda x: x=='[]')])"
   ]
  },
  {
   "cell_type": "markdown",
   "id": "e65d2de2",
   "metadata": {},
   "source": [
    "'책소개' 없는 4권 제거"
   ]
  },
  {
   "cell_type": "code",
   "execution_count": 55,
   "id": "4adf17f7",
   "metadata": {},
   "outputs": [
    {
     "data": {
      "text/plain": [
       "0"
      ]
     },
     "execution_count": 55,
     "metadata": {},
     "output_type": "execute_result"
    }
   ],
   "source": [
    "경제경영 = 경제경영_ori[~경제경영_ori['책소개'].isnull()]\n",
    "len(경제경영[경제경영['책소개'].isnull()])"
   ]
  },
  {
   "cell_type": "markdown",
   "id": "b9789892",
   "metadata": {},
   "source": [
    "'키워드픽' 없는 60권 제거"
   ]
  },
  {
   "cell_type": "code",
   "execution_count": 56,
   "id": "e9f71cbe",
   "metadata": {},
   "outputs": [
    {
     "data": {
      "text/plain": [
       "0"
      ]
     },
     "execution_count": 56,
     "metadata": {},
     "output_type": "execute_result"
    }
   ],
   "source": [
    "경제경영 = 경제경영_ori[~경제경영_ori['책소개'].isnull()]\n",
    "len(경제경영[경제경영['책소개'].isnull()])"
   ]
  },
  {
   "cell_type": "markdown",
   "id": "8872aa54",
   "metadata": {},
   "source": [
    "'경제경영' 키워드 추가\n",
    "\n",
    "- 외부에서 xlsx 불러오면서 '키워드' 열이 list가 아닌 str type으로 불러와지는 문제\n",
    "- 해결하기 위해 str을 list로 인식하게 만들어주는 과정 진행"
   ]
  },
  {
   "cell_type": "code",
   "execution_count": 57,
   "id": "e1720c50",
   "metadata": {},
   "outputs": [],
   "source": [
    "from ast import literal_eval\n",
    "경제경영['키워드'] = 경제경영['키워드'].apply(lambda x: literal_eval(x))"
   ]
  },
  {
   "cell_type": "code",
   "execution_count": 58,
   "id": "7f82657a",
   "metadata": {},
   "outputs": [
    {
     "data": {
      "text/plain": [
       "0        [금리, 모기지, 흥국, 저금리, 글로벌 금융 위기, 실리콘밸리, 경제경영]\n",
       "2        [부자되는법, 종잣돈, 회장, 투자 원칙, 경제철학, 주식 시장, 경제경영]\n",
       "3       [부자되는법, 신용, 소설 형식, 배트, 경제이야기, 사업 아이템, 경제경영]\n",
       "4                   [창업, 매출, 직원, 장학, 기업인, 사업, 경제경영]\n",
       "5            [재테크, 경제학, 중앙은행, 케인스, 경제이론, 국부론, 경제경영]\n",
       "                           ...                     \n",
       "995               [겸손, 상대방, 질문, 지시, 조직문화, 단언, 경제경영]\n",
       "996    [중급, 지급 채무, 충당 부채, 복식부기, 금융 상품, 무형 자산, 경제경영]\n",
       "997                [창업, 피스트, 업계, 고품격, 블랑, 직영, 경제경영]\n",
       "998         [수익, 투자처, 서울시, 실전 투자, 투자 전략, 입지론, 경제경영]\n",
       "999                [매출, 장사, 고객, 손님, 출구, 경제경영, 경제경영]\n",
       "Name: 키워드, Length: 936, dtype: object"
      ]
     },
     "execution_count": 58,
     "metadata": {},
     "output_type": "execute_result"
    }
   ],
   "source": [
    "경제경영['키워드'].apply(lambda x: x.append('경제경영'))\n",
    "경제경영['키워드']"
   ]
  },
  {
   "cell_type": "code",
   "execution_count": 59,
   "id": "c8d7ed18",
   "metadata": {},
   "outputs": [],
   "source": [
    "경제경영.to_excel(path + \"/데이터 전처리/경제경영_전처리후.xlsx\")"
   ]
  },
  {
   "cell_type": "code",
   "execution_count": null,
   "id": "ab7bb0f4",
   "metadata": {},
   "outputs": [],
   "source": []
  },
  {
   "cell_type": "markdown",
   "id": "d12caac4",
   "metadata": {},
   "source": [
    "#### 자기계발 분야"
   ]
  },
  {
   "cell_type": "code",
   "execution_count": 60,
   "id": "8d63bbf1",
   "metadata": {},
   "outputs": [
    {
     "data": {
      "text/html": [
       "<div>\n",
       "<style scoped>\n",
       "    .dataframe tbody tr th:only-of-type {\n",
       "        vertical-align: middle;\n",
       "    }\n",
       "\n",
       "    .dataframe tbody tr th {\n",
       "        vertical-align: top;\n",
       "    }\n",
       "\n",
       "    .dataframe thead th {\n",
       "        text-align: right;\n",
       "    }\n",
       "</style>\n",
       "<table border=\"1\" class=\"dataframe\">\n",
       "  <thead>\n",
       "    <tr style=\"text-align: right;\">\n",
       "      <th></th>\n",
       "      <th>상품명</th>\n",
       "      <th>책소개</th>\n",
       "      <th>키워드</th>\n",
       "    </tr>\n",
       "  </thead>\n",
       "  <tbody>\n",
       "    <tr>\n",
       "      <th>0</th>\n",
       "      <td>세이노의 가르침</td>\n",
       "      <td>ㆍ 머릿글: 초판 한정 블랙 에디션\\n\\n재야의 명저 《세이노의 가르침》 2023년...</td>\n",
       "      <td>['부자', '주식투자', '재테크', '이노', '이코', '신동아']</td>\n",
       "    </tr>\n",
       "    <tr>\n",
       "      <th>1</th>\n",
       "      <td>역행자(확장판)</td>\n",
       "      <td>한층 더 강력한 치트키, 독해진 팩트 폭격!\\n50주 연속 베스트셀러·40만 독자의...</td>\n",
       "      <td>['창업', '경제', '수익', '자유의지', '장판', '단계']</td>\n",
       "    </tr>\n",
       "    <tr>\n",
       "      <th>2</th>\n",
       "      <td>원씽(The One Thing)(리커버 특별판)</td>\n",
       "      <td>자신의 인생에서 가장 중요한 ‘원씽’을 찾아라!\\n복잡한 세상을 이기는 단순함의 힘...</td>\n",
       "      <td>['자기관리', '살아라', '월스트리트 저널', '자기혁신', '아이폰', '나스']</td>\n",
       "    </tr>\n",
       "    <tr>\n",
       "      <th>3</th>\n",
       "      <td>유연함의 힘</td>\n",
       "      <td>수십 년 경력의 리더십 전문가가 알려주는 성공의 비밀\\n행동을 바꾸고, 소프트 스킬...</td>\n",
       "      <td>['내면', '성장', '포드', '기술', '실험', '학습 조직']</td>\n",
       "    </tr>\n",
       "    <tr>\n",
       "      <th>4</th>\n",
       "      <td>일이란 무엇인가</td>\n",
       "      <td>‘평사원’에서 ‘사장’까지\\n‘갤럭시 성공 신화’ 고동진 삼성전자 전 사장이\\n삼성...</td>\n",
       "      <td>['갤럭시', '삼성', '클루', '모바일', '플레인', '사장']</td>\n",
       "    </tr>\n",
       "    <tr>\n",
       "      <th>...</th>\n",
       "      <td>...</td>\n",
       "      <td>...</td>\n",
       "      <td>...</td>\n",
       "    </tr>\n",
       "    <tr>\n",
       "      <th>995</th>\n",
       "      <td>불안이라는 중독</td>\n",
       "      <td>우울, 번아웃, 강박증, 알코올 중독…\\n이 모든 것은 불안에서 시작된다!\\n\\n중...</td>\n",
       "      <td>['심리', '불안', '심리학', '습관', '뇌과학', '초콜릿']</td>\n",
       "    </tr>\n",
       "    <tr>\n",
       "      <th>996</th>\n",
       "      <td>엮이면 피곤해지는 사람들</td>\n",
       "      <td>“요즘 ‘그 사람’ 때문에 진짜 미치겠어!”\\n날마다 내 속 뒤집는 그 사람, 대체...</td>\n",
       "      <td>['인간관계', '솔루션', '남불', '손절', '유형', '피곤']</td>\n",
       "    </tr>\n",
       "    <tr>\n",
       "      <th>997</th>\n",
       "      <td>결정 수업</td>\n",
       "      <td>‘결정학’의 창시자가 고안하고 수많은 CEO가 검증한\\n세계 유일, 4단계 의사결정...</td>\n",
       "      <td>['내면', '솔루션', '다비드', '미켈란젤로', '형이상학', '방어기제']</td>\n",
       "    </tr>\n",
       "    <tr>\n",
       "      <th>998</th>\n",
       "      <td>제갈량의 지혜를 읽어야 할 때</td>\n",
       "      <td>아, 아득한 하늘이여! 언제야 끝이 나겠느냐?\\n막막한 이 시국에 꼭 읽어야 할 제...</td>\n",
       "      <td>['고전', '담판', '사마의', '처세', '지모', '전략']</td>\n",
       "    </tr>\n",
       "    <tr>\n",
       "      <th>999</th>\n",
       "      <td>부자의 사고법</td>\n",
       "      <td>부와 성공을 이룬 사람들은 생각하는 방법부터 다르다!\\n전 세계 1억 명 이상의 인...</td>\n",
       "      <td>['성공학', '안토니우스', '마르쿠스', '암시', '보복', '진리']</td>\n",
       "    </tr>\n",
       "  </tbody>\n",
       "</table>\n",
       "<p>1000 rows × 3 columns</p>\n",
       "</div>"
      ],
      "text/plain": [
       "                            상품명  \\\n",
       "0                      세이노의 가르침   \n",
       "1                      역행자(확장판)   \n",
       "2    원씽(The One Thing)(리커버 특별판)   \n",
       "3                        유연함의 힘   \n",
       "4                      일이란 무엇인가   \n",
       "..                          ...   \n",
       "995                    불안이라는 중독   \n",
       "996               엮이면 피곤해지는 사람들   \n",
       "997                       결정 수업   \n",
       "998            제갈량의 지혜를 읽어야 할 때   \n",
       "999                     부자의 사고법   \n",
       "\n",
       "                                                   책소개  \\\n",
       "0    ㆍ 머릿글: 초판 한정 블랙 에디션\\n\\n재야의 명저 《세이노의 가르침》 2023년...   \n",
       "1    한층 더 강력한 치트키, 독해진 팩트 폭격!\\n50주 연속 베스트셀러·40만 독자의...   \n",
       "2    자신의 인생에서 가장 중요한 ‘원씽’을 찾아라!\\n복잡한 세상을 이기는 단순함의 힘...   \n",
       "3    수십 년 경력의 리더십 전문가가 알려주는 성공의 비밀\\n행동을 바꾸고, 소프트 스킬...   \n",
       "4    ‘평사원’에서 ‘사장’까지\\n‘갤럭시 성공 신화’ 고동진 삼성전자 전 사장이\\n삼성...   \n",
       "..                                                 ...   \n",
       "995  우울, 번아웃, 강박증, 알코올 중독…\\n이 모든 것은 불안에서 시작된다!\\n\\n중...   \n",
       "996  “요즘 ‘그 사람’ 때문에 진짜 미치겠어!”\\n날마다 내 속 뒤집는 그 사람, 대체...   \n",
       "997  ‘결정학’의 창시자가 고안하고 수많은 CEO가 검증한\\n세계 유일, 4단계 의사결정...   \n",
       "998  아, 아득한 하늘이여! 언제야 끝이 나겠느냐?\\n막막한 이 시국에 꼭 읽어야 할 제...   \n",
       "999  부와 성공을 이룬 사람들은 생각하는 방법부터 다르다!\\n전 세계 1억 명 이상의 인...   \n",
       "\n",
       "                                                  키워드  \n",
       "0            ['부자', '주식투자', '재테크', '이노', '이코', '신동아']  \n",
       "1              ['창업', '경제', '수익', '자유의지', '장판', '단계']  \n",
       "2    ['자기관리', '살아라', '월스트리트 저널', '자기혁신', '아이폰', '나스']  \n",
       "3             ['내면', '성장', '포드', '기술', '실험', '학습 조직']  \n",
       "4             ['갤럭시', '삼성', '클루', '모바일', '플레인', '사장']  \n",
       "..                                                ...  \n",
       "995           ['심리', '불안', '심리학', '습관', '뇌과학', '초콜릿']  \n",
       "996           ['인간관계', '솔루션', '남불', '손절', '유형', '피곤']  \n",
       "997     ['내면', '솔루션', '다비드', '미켈란젤로', '형이상학', '방어기제']  \n",
       "998             ['고전', '담판', '사마의', '처세', '지모', '전략']  \n",
       "999        ['성공학', '안토니우스', '마르쿠스', '암시', '보복', '진리']  \n",
       "\n",
       "[1000 rows x 3 columns]"
      ]
     },
     "execution_count": 60,
     "metadata": {},
     "output_type": "execute_result"
    }
   ],
   "source": [
    "자기계발_ori = pd.read_excel(path + '/크롤링/자기계발_키워드 Pick.xlsx')\n",
    "자기계발_ori = 자기계발_ori.iloc[:, 1:]\n",
    "자기계발_ori"
   ]
  },
  {
   "cell_type": "markdown",
   "id": "097896f0",
   "metadata": {},
   "source": [
    "- 7권 '책소개' 없음\n",
    "- 77권 '키워드픽' 없음"
   ]
  },
  {
   "cell_type": "code",
   "execution_count": 64,
   "id": "38dc77d3",
   "metadata": {},
   "outputs": [
    {
     "data": {
      "text/plain": [
       "7"
      ]
     },
     "execution_count": 64,
     "metadata": {},
     "output_type": "execute_result"
    }
   ],
   "source": [
    "len(자기계발_ori[자기계발_ori['책소개'].isnull()])"
   ]
  },
  {
   "cell_type": "code",
   "execution_count": 63,
   "id": "a909b1de",
   "metadata": {},
   "outputs": [
    {
     "data": {
      "text/plain": [
       "77"
      ]
     },
     "execution_count": 63,
     "metadata": {},
     "output_type": "execute_result"
    }
   ],
   "source": [
    "len(자기계발_ori[자기계발_ori['키워드'].apply(lambda x: x=='[]')])"
   ]
  },
  {
   "cell_type": "markdown",
   "id": "0dffd065",
   "metadata": {},
   "source": [
    "'책소개' 없는 7권 제거"
   ]
  },
  {
   "cell_type": "code",
   "execution_count": 67,
   "id": "912dcf4f",
   "metadata": {},
   "outputs": [
    {
     "data": {
      "text/plain": [
       "0"
      ]
     },
     "execution_count": 67,
     "metadata": {},
     "output_type": "execute_result"
    }
   ],
   "source": [
    "자기계발 = 자기계발_ori[~자기계발_ori['책소개'].isnull()]\n",
    "len(자기계발[자기계발['책소개'].isnull()])"
   ]
  },
  {
   "cell_type": "markdown",
   "id": "cb687e4e",
   "metadata": {},
   "source": [
    "'키워드픽' 없는 77권 제거"
   ]
  },
  {
   "cell_type": "code",
   "execution_count": 68,
   "id": "55ffa18f",
   "metadata": {},
   "outputs": [
    {
     "data": {
      "text/plain": [
       "0"
      ]
     },
     "execution_count": 68,
     "metadata": {},
     "output_type": "execute_result"
    }
   ],
   "source": [
    "자기계발 = 자기계발[자기계발['키워드']!='[]']\n",
    "len(자기계발[자기계발['키워드'].apply(lambda x: x=='[]')])"
   ]
  },
  {
   "cell_type": "markdown",
   "id": "68f9942a",
   "metadata": {},
   "source": [
    "'자기계발' 키워드 추가"
   ]
  },
  {
   "cell_type": "code",
   "execution_count": 69,
   "id": "c842099c",
   "metadata": {},
   "outputs": [
    {
     "data": {
      "text/plain": [
       "0              [부자, 주식투자, 재테크, 이노, 이코, 신동아, 자기계발]\n",
       "1                [창업, 경제, 수익, 자유의지, 장판, 단계, 자기계발]\n",
       "2      [자기관리, 살아라, 월스트리트 저널, 자기혁신, 아이폰, 나스, 자기계발]\n",
       "3               [내면, 성장, 포드, 기술, 실험, 학습 조직, 자기계발]\n",
       "4               [갤럭시, 삼성, 클루, 모바일, 플레인, 사장, 자기계발]\n",
       "                          ...                    \n",
       "995             [심리, 불안, 심리학, 습관, 뇌과학, 초콜릿, 자기계발]\n",
       "996             [인간관계, 솔루션, 남불, 손절, 유형, 피곤, 자기계발]\n",
       "997       [내면, 솔루션, 다비드, 미켈란젤로, 형이상학, 방어기제, 자기계발]\n",
       "998               [고전, 담판, 사마의, 처세, 지모, 전략, 자기계발]\n",
       "999          [성공학, 안토니우스, 마르쿠스, 암시, 보복, 진리, 자기계발]\n",
       "Name: 키워드, Length: 916, dtype: object"
      ]
     },
     "execution_count": 69,
     "metadata": {},
     "output_type": "execute_result"
    }
   ],
   "source": [
    "자기계발['키워드'] = 자기계발['키워드'].apply(lambda x: literal_eval(x))\n",
    "자기계발['키워드'].apply(lambda x: x.append('자기계발'))\n",
    "자기계발['키워드']"
   ]
  },
  {
   "cell_type": "code",
   "execution_count": 70,
   "id": "87a4e783",
   "metadata": {},
   "outputs": [],
   "source": [
    "자기계발.to_excel(path + \"/데이터 전처리/자기계발_전처리후.xlsx\")"
   ]
  },
  {
   "cell_type": "code",
   "execution_count": null,
   "id": "70cc86c6",
   "metadata": {},
   "outputs": [],
   "source": []
  },
  {
   "cell_type": "markdown",
   "id": "972836ca",
   "metadata": {},
   "source": [
    "소설 분야"
   ]
  },
  {
   "cell_type": "code",
   "execution_count": 103,
   "id": "fc41a8f2",
   "metadata": {
    "scrolled": false
   },
   "outputs": [
    {
     "data": {
      "text/html": [
       "<div>\n",
       "<style scoped>\n",
       "    .dataframe tbody tr th:only-of-type {\n",
       "        vertical-align: middle;\n",
       "    }\n",
       "\n",
       "    .dataframe tbody tr th {\n",
       "        vertical-align: top;\n",
       "    }\n",
       "\n",
       "    .dataframe thead th {\n",
       "        text-align: right;\n",
       "    }\n",
       "</style>\n",
       "<table border=\"1\" class=\"dataframe\">\n",
       "  <thead>\n",
       "    <tr style=\"text-align: right;\">\n",
       "      <th></th>\n",
       "      <th>상품명</th>\n",
       "      <th>책소개</th>\n",
       "      <th>키워드</th>\n",
       "    </tr>\n",
       "  </thead>\n",
       "  <tbody>\n",
       "    <tr>\n",
       "      <th>0</th>\n",
       "      <td>메리골드 마음 세탁소</td>\n",
       "      <td>마음에 묻은 얼룩을 마법처럼 지워드립니다\\n윤정은 작가 문학상 수상 11년 만의 첫...</td>\n",
       "      <td>['소설', '컬러링', '상처', '날 마음', '핏덩이', '재하']</td>\n",
       "    </tr>\n",
       "    <tr>\n",
       "      <th>1</th>\n",
       "      <td>꿀벌의 예언 1</td>\n",
       "      <td>인류의 미래를 둘러싸고 펼쳐지는 대모험\\n과학적 상상력과 역사적 사유가 만나 시작되...</td>\n",
       "      <td>['미래', '역사', '과학', '예언서', '전생', '모험 이야기']</td>\n",
       "    </tr>\n",
       "    <tr>\n",
       "      <th>2</th>\n",
       "      <td>아주 희미한 빛으로도</td>\n",
       "      <td>더 진실하기를, 더 치열하기를, 더 용기 있기를\\n『내게 무해한 사람』 이후 5년,...</td>\n",
       "      <td>['글쓰기', '언니', '이모', '우경', '해진', '자신']</td>\n",
       "    </tr>\n",
       "    <tr>\n",
       "      <th>3</th>\n",
       "      <td>꿀벌의 예언 2</td>\n",
       "      <td>인류의 미래를 둘러싸고 펼쳐지는 대모험\\n과학적 상상력과 역사적 사유가 만나 시작되...</td>\n",
       "      <td>['미래', '역사', '과학', '예언서', '전생', '모험 이야기']</td>\n",
       "    </tr>\n",
       "    <tr>\n",
       "      <th>4</th>\n",
       "      <td>눈에 갇힌 외딴 산장에서</td>\n",
       "      <td>오디션에 합격한 7명의 남녀 배우를 놓고 벌이는 죽음의 유희\\n\\n이것은 연극인가,...</td>\n",
       "      <td>['미스터리소설', '미스터리', '소설', '연출가', '오디션', '배우']</td>\n",
       "    </tr>\n",
       "    <tr>\n",
       "      <th>...</th>\n",
       "      <td>...</td>\n",
       "      <td>...</td>\n",
       "      <td>...</td>\n",
       "    </tr>\n",
       "    <tr>\n",
       "      <th>995</th>\n",
       "      <td>나의 삼촌 브루스 리 2</td>\n",
       "      <td>1970년대부터 2000년대까지 한국식 근대화의 압축 성장을 거치며 평범한 개인들이...</td>\n",
       "      <td>['한국현대소설', '인생', '구원', '한국현대사', '인간 군상', '눈칫밥']</td>\n",
       "    </tr>\n",
       "    <tr>\n",
       "      <th>996</th>\n",
       "      <td>나의 삼촌 브루스 리 1</td>\n",
       "      <td>1970년대부터 2000년대까지 한국식 근대화의 압축 성장을 거치며 평범한 개인들이...</td>\n",
       "      <td>['한국현대소설', '인생', '구원', '한국현대사', '인간 군상', '눈칫밥']</td>\n",
       "    </tr>\n",
       "    <tr>\n",
       "      <th>997</th>\n",
       "      <td>위쳐</td>\n",
       "      <td>전 세계 1,500만부 이상 판매된 판타지 베스트셀러\\n넷플릭스 드라마 〈위쳐〉의 ...</td>\n",
       "      <td>['유럽 각국', '장르 소설', '경제학자', '돌연변이', '검술', '불로불사']</td>\n",
       "    </tr>\n",
       "    <tr>\n",
       "      <th>998</th>\n",
       "      <td>은하영웅전설 2: 야망편</td>\n",
       "      <td>『은하영웅전설』제2권.오랜 기간에 걸친 전쟁은 조금씩 동맹의 질서를 좀먹으며 정부의...</td>\n",
       "      <td>['연애소설', '소설', '행성', '미스터리 스릴러', '귀족', '권력 투쟁']</td>\n",
       "    </tr>\n",
       "    <tr>\n",
       "      <th>999</th>\n",
       "      <td>신 3</td>\n",
       "      <td>신이 되기 위한 후보생들의 대결이 펼쳐진다!\\n베르나르 베르베르가 준비에서 출간까지...</td>\n",
       "      <td>['프랑스소설', '후보', '합본', '과학소설', '돌고래', '그리스 로마 신화']</td>\n",
       "    </tr>\n",
       "  </tbody>\n",
       "</table>\n",
       "<p>1000 rows × 3 columns</p>\n",
       "</div>"
      ],
      "text/plain": [
       "               상품명                                                책소개  \\\n",
       "0      메리골드 마음 세탁소  마음에 묻은 얼룩을 마법처럼 지워드립니다\\n윤정은 작가 문학상 수상 11년 만의 첫...   \n",
       "1         꿀벌의 예언 1  인류의 미래를 둘러싸고 펼쳐지는 대모험\\n과학적 상상력과 역사적 사유가 만나 시작되...   \n",
       "2      아주 희미한 빛으로도  더 진실하기를, 더 치열하기를, 더 용기 있기를\\n『내게 무해한 사람』 이후 5년,...   \n",
       "3         꿀벌의 예언 2  인류의 미래를 둘러싸고 펼쳐지는 대모험\\n과학적 상상력과 역사적 사유가 만나 시작되...   \n",
       "4    눈에 갇힌 외딴 산장에서  오디션에 합격한 7명의 남녀 배우를 놓고 벌이는 죽음의 유희\\n\\n이것은 연극인가,...   \n",
       "..             ...                                                ...   \n",
       "995  나의 삼촌 브루스 리 2  1970년대부터 2000년대까지 한국식 근대화의 압축 성장을 거치며 평범한 개인들이...   \n",
       "996  나의 삼촌 브루스 리 1  1970년대부터 2000년대까지 한국식 근대화의 압축 성장을 거치며 평범한 개인들이...   \n",
       "997             위쳐  전 세계 1,500만부 이상 판매된 판타지 베스트셀러\\n넷플릭스 드라마 〈위쳐〉의 ...   \n",
       "998  은하영웅전설 2: 야망편  『은하영웅전설』제2권.오랜 기간에 걸친 전쟁은 조금씩 동맹의 질서를 좀먹으며 정부의...   \n",
       "999            신 3  신이 되기 위한 후보생들의 대결이 펼쳐진다!\\n베르나르 베르베르가 준비에서 출간까지...   \n",
       "\n",
       "                                                   키워드  \n",
       "0             ['소설', '컬러링', '상처', '날 마음', '핏덩이', '재하']  \n",
       "1            ['미래', '역사', '과학', '예언서', '전생', '모험 이야기']  \n",
       "2                ['글쓰기', '언니', '이모', '우경', '해진', '자신']  \n",
       "3            ['미래', '역사', '과학', '예언서', '전생', '모험 이야기']  \n",
       "4         ['미스터리소설', '미스터리', '소설', '연출가', '오디션', '배우']  \n",
       "..                                                 ...  \n",
       "995    ['한국현대소설', '인생', '구원', '한국현대사', '인간 군상', '눈칫밥']  \n",
       "996    ['한국현대소설', '인생', '구원', '한국현대사', '인간 군상', '눈칫밥']  \n",
       "997   ['유럽 각국', '장르 소설', '경제학자', '돌연변이', '검술', '불로불사']  \n",
       "998    ['연애소설', '소설', '행성', '미스터리 스릴러', '귀족', '권력 투쟁']  \n",
       "999  ['프랑스소설', '후보', '합본', '과학소설', '돌고래', '그리스 로마 신화']  \n",
       "\n",
       "[1000 rows x 3 columns]"
      ]
     },
     "execution_count": 103,
     "metadata": {},
     "output_type": "execute_result"
    }
   ],
   "source": [
    "소설_ori = pd.read_excel(path + '/크롤링/소설_키워드 Pick.xlsx')\n",
    "소설_ori = 소설_ori.iloc[:, 1:]\n",
    "소설_ori"
   ]
  },
  {
   "cell_type": "markdown",
   "id": "6e57363d",
   "metadata": {},
   "source": [
    "'책소개'에서 19세 이상 도서인 경우 링크 접속이 불가능하여 데이터가 수집되지 않은 문제 발생\n",
    "- 2권 '책소개' NaN으로 수집됨\n",
    "- 직접 '책소개'와 '키워드픽'을 추가하려 했으나 '키워드픽'이 없어서 결국 분석 대상 데이터에서 제외되므로 바로 제거하기로 결정"
   ]
  },
  {
   "cell_type": "code",
   "execution_count": 104,
   "id": "17b8a22c",
   "metadata": {},
   "outputs": [
    {
     "data": {
      "text/html": [
       "<div>\n",
       "<style scoped>\n",
       "    .dataframe tbody tr th:only-of-type {\n",
       "        vertical-align: middle;\n",
       "    }\n",
       "\n",
       "    .dataframe tbody tr th {\n",
       "        vertical-align: top;\n",
       "    }\n",
       "\n",
       "    .dataframe thead th {\n",
       "        text-align: right;\n",
       "    }\n",
       "</style>\n",
       "<table border=\"1\" class=\"dataframe\">\n",
       "  <thead>\n",
       "    <tr style=\"text-align: right;\">\n",
       "      <th></th>\n",
       "      <th>상품명</th>\n",
       "      <th>책소개</th>\n",
       "      <th>키워드</th>\n",
       "    </tr>\n",
       "  </thead>\n",
       "  <tbody>\n",
       "    <tr>\n",
       "      <th>576</th>\n",
       "      <td>시맨틱 에러 세트</td>\n",
       "      <td>NaN</td>\n",
       "      <td>[]</td>\n",
       "    </tr>\n",
       "    <tr>\n",
       "      <th>729</th>\n",
       "      <td>살육에 이르는 병</td>\n",
       "      <td>NaN</td>\n",
       "      <td>[]</td>\n",
       "    </tr>\n",
       "  </tbody>\n",
       "</table>\n",
       "</div>"
      ],
      "text/plain": [
       "           상품명  책소개 키워드\n",
       "576  시맨틱 에러 세트  NaN  []\n",
       "729  살육에 이르는 병  NaN  []"
      ]
     },
     "execution_count": 104,
     "metadata": {},
     "output_type": "execute_result"
    }
   ],
   "source": [
    "소설_ori[소설_ori['책소개'].isnull()]"
   ]
  },
  {
   "cell_type": "code",
   "execution_count": 109,
   "id": "f08026d3",
   "metadata": {},
   "outputs": [
    {
     "data": {
      "text/html": [
       "<div>\n",
       "<style scoped>\n",
       "    .dataframe tbody tr th:only-of-type {\n",
       "        vertical-align: middle;\n",
       "    }\n",
       "\n",
       "    .dataframe tbody tr th {\n",
       "        vertical-align: top;\n",
       "    }\n",
       "\n",
       "    .dataframe thead th {\n",
       "        text-align: right;\n",
       "    }\n",
       "</style>\n",
       "<table border=\"1\" class=\"dataframe\">\n",
       "  <thead>\n",
       "    <tr style=\"text-align: right;\">\n",
       "      <th></th>\n",
       "      <th>상품명</th>\n",
       "      <th>책소개</th>\n",
       "      <th>키워드</th>\n",
       "    </tr>\n",
       "  </thead>\n",
       "  <tbody>\n",
       "  </tbody>\n",
       "</table>\n",
       "</div>"
      ],
      "text/plain": [
       "Empty DataFrame\n",
       "Columns: [상품명, 책소개, 키워드]\n",
       "Index: []"
      ]
     },
     "execution_count": 109,
     "metadata": {},
     "output_type": "execute_result"
    }
   ],
   "source": [
    "소설_ori = 소설_ori[소설_ori['책소개'].isnull()==False]\n",
    "소설_ori[소설_ori['책소개'].isnull()]"
   ]
  },
  {
   "cell_type": "markdown",
   "id": "b5d05b77",
   "metadata": {},
   "source": [
    "그외 '책소개'가 없는 경우는 '[]'로 들어감\n",
    "- 10권 '책소개' 없음\n",
    "- 52권 '키워드픽' 없음"
   ]
  },
  {
   "cell_type": "code",
   "execution_count": 110,
   "id": "a3991d58",
   "metadata": {},
   "outputs": [
    {
     "data": {
      "text/plain": [
       "10"
      ]
     },
     "execution_count": 110,
     "metadata": {},
     "output_type": "execute_result"
    }
   ],
   "source": [
    "len(소설_ori[소설_ori['책소개'].apply(lambda x: x=='[]')])"
   ]
  },
  {
   "cell_type": "code",
   "execution_count": 111,
   "id": "63e749a2",
   "metadata": {},
   "outputs": [
    {
     "data": {
      "text/plain": [
       "50"
      ]
     },
     "execution_count": 111,
     "metadata": {},
     "output_type": "execute_result"
    }
   ],
   "source": [
    "len(소설_ori[소설_ori['키워드'].apply(lambda x: x=='[]')])"
   ]
  },
  {
   "cell_type": "markdown",
   "id": "4955f4d1",
   "metadata": {},
   "source": [
    "'책소개' 없는 10권 제거"
   ]
  },
  {
   "cell_type": "code",
   "execution_count": 112,
   "id": "4abe46f8",
   "metadata": {},
   "outputs": [
    {
     "data": {
      "text/plain": [
       "0"
      ]
     },
     "execution_count": 112,
     "metadata": {},
     "output_type": "execute_result"
    }
   ],
   "source": [
    "소설 = 소설_ori[소설_ori['책소개']!='[]']\n",
    "len(소설[소설['책소개'].apply(lambda x: x=='[]')])"
   ]
  },
  {
   "cell_type": "markdown",
   "id": "5bff0408",
   "metadata": {},
   "source": [
    "'키워드픽' 없는 52권 제거"
   ]
  },
  {
   "cell_type": "code",
   "execution_count": 113,
   "id": "a9b6634b",
   "metadata": {},
   "outputs": [
    {
     "data": {
      "text/plain": [
       "0"
      ]
     },
     "execution_count": 113,
     "metadata": {},
     "output_type": "execute_result"
    }
   ],
   "source": [
    "소설 = 소설[소설['키워드']!='[]']\n",
    "len(소설[소설['키워드'].apply(lambda x: x=='[]')])"
   ]
  },
  {
   "cell_type": "markdown",
   "id": "b372b159",
   "metadata": {},
   "source": [
    "'소설' 키워드 추가"
   ]
  },
  {
   "cell_type": "code",
   "execution_count": 114,
   "id": "b1f87aaa",
   "metadata": {},
   "outputs": [
    {
     "data": {
      "text/plain": [
       "0               [소설, 컬러링, 상처, 날 마음, 핏덩이, 재하, 소설]\n",
       "1              [미래, 역사, 과학, 예언서, 전생, 모험 이야기, 소설]\n",
       "2                  [글쓰기, 언니, 이모, 우경, 해진, 자신, 소설]\n",
       "3              [미래, 역사, 과학, 예언서, 전생, 모험 이야기, 소설]\n",
       "4           [미스터리소설, 미스터리, 소설, 연출가, 오디션, 배우, 소설]\n",
       "                         ...                    \n",
       "995      [한국현대소설, 인생, 구원, 한국현대사, 인간 군상, 눈칫밥, 소설]\n",
       "996      [한국현대소설, 인생, 구원, 한국현대사, 인간 군상, 눈칫밥, 소설]\n",
       "997     [유럽 각국, 장르 소설, 경제학자, 돌연변이, 검술, 불로불사, 소설]\n",
       "998      [연애소설, 소설, 행성, 미스터리 스릴러, 귀족, 권력 투쟁, 소설]\n",
       "999    [프랑스소설, 후보, 합본, 과학소설, 돌고래, 그리스 로마 신화, 소설]\n",
       "Name: 키워드, Length: 938, dtype: object"
      ]
     },
     "execution_count": 114,
     "metadata": {},
     "output_type": "execute_result"
    }
   ],
   "source": [
    "소설['키워드'] = 소설['키워드'].apply(lambda x: literal_eval(x))\n",
    "소설['키워드'].apply(lambda x: x.append('소설'))\n",
    "소설['키워드']"
   ]
  },
  {
   "cell_type": "code",
   "execution_count": 116,
   "id": "fedccb97",
   "metadata": {},
   "outputs": [],
   "source": [
    "소설.to_excel(\"소설_전처리후.xlsx\")"
   ]
  },
  {
   "cell_type": "code",
   "execution_count": null,
   "id": "4c727b79",
   "metadata": {},
   "outputs": [],
   "source": []
  },
  {
   "cell_type": "markdown",
   "id": "7f66dfdf",
   "metadata": {},
   "source": [
    "인문 분야"
   ]
  },
  {
   "cell_type": "code",
   "execution_count": 117,
   "id": "76bcb228",
   "metadata": {},
   "outputs": [
    {
     "data": {
      "text/html": [
       "<div>\n",
       "<style scoped>\n",
       "    .dataframe tbody tr th:only-of-type {\n",
       "        vertical-align: middle;\n",
       "    }\n",
       "\n",
       "    .dataframe tbody tr th {\n",
       "        vertical-align: top;\n",
       "    }\n",
       "\n",
       "    .dataframe thead th {\n",
       "        text-align: right;\n",
       "    }\n",
       "</style>\n",
       "<table border=\"1\" class=\"dataframe\">\n",
       "  <thead>\n",
       "    <tr style=\"text-align: right;\">\n",
       "      <th></th>\n",
       "      <th>상품명</th>\n",
       "      <th>책소개</th>\n",
       "      <th>키워드</th>\n",
       "    </tr>\n",
       "  </thead>\n",
       "  <tbody>\n",
       "    <tr>\n",
       "      <th>0</th>\n",
       "      <td>문과 남자의 과학 공부</td>\n",
       "      <td>과학 공부로 길어 올린 생명과 우주에 관한 진실, 인간과 사회를 이해하는 방법\\n“...</td>\n",
       "      <td>['뇌과학', '양자 역학', '회한', '우주', '문과', '사유']</td>\n",
       "    </tr>\n",
       "    <tr>\n",
       "      <th>1</th>\n",
       "      <td>도둑맞은 집중력</td>\n",
       "      <td>★아마존, 월 스트리트 저널 올해의 책★\\n★애덤 그랜트·수전 케인·힐러리 클린턴 ...</td>\n",
       "      <td>['주의력', '비만', '증가', '유행병', '정크푸드', '테크']</td>\n",
       "    </tr>\n",
       "    <tr>\n",
       "      <th>2</th>\n",
       "      <td>모든 삶은 흐른다</td>\n",
       "      <td>“이 책은 흐르는 삶 속에서 ‘자기 자신’이라는 유일한 섬이 되는 길을 안내한다. ...</td>\n",
       "      <td>['바다', '곡예', '이해인', '레르', '프랑스 최고', '상어']</td>\n",
       "    </tr>\n",
       "    <tr>\n",
       "      <th>3</th>\n",
       "      <td>내면소통</td>\n",
       "      <td>“나와 세상을 바꾸는 힘은 불굴의 의지가 아니라\\n실패를 두려워하지 않는 마음근력에...</td>\n",
       "      <td>['뇌과학', '편도체', '경기력 향상', '뇌 발달', '블랭킷', '선문답']</td>\n",
       "    </tr>\n",
       "    <tr>\n",
       "      <th>4</th>\n",
       "      <td>2023 큰별쌤 최태성의 별별한국사 기출 500제 한국사능력검정시험 심화(1, 2,...</td>\n",
       "      <td>\"2023년 65회 시험부터 2021년 56회 시험까지 최신 기출문제 10회분, 총...</td>\n",
       "      <td>['앞표지', '선택지', '킬러 문항', '열매', '난도', '리더']</td>\n",
       "    </tr>\n",
       "    <tr>\n",
       "      <th>...</th>\n",
       "      <td>...</td>\n",
       "      <td>...</td>\n",
       "      <td>...</td>\n",
       "    </tr>\n",
       "    <tr>\n",
       "      <th>995</th>\n",
       "      <td>표준</td>\n",
       "      <td>제4판 표준 중세 국어 문법론에서는 지난 10년 동안에 나온 중세어 관련 문법 업적...</td>\n",
       "      <td>['품사론', '형태론', '통사론', '표기법', '겹문장', '발음']</td>\n",
       "    </tr>\n",
       "    <tr>\n",
       "      <th>996</th>\n",
       "      <td>삼국지연의보다 재미있는 정사 삼국지 1</td>\n",
       "      <td>20만 구독자가 열광한 화제의 유튜브 역사채널 〈써에이스쇼〉의 삼국지\\n누적 조회 ...</td>\n",
       "      <td>['판타지', '황건적', '유비', '컬러 삽화', '위촉', '실제 역사']</td>\n",
       "    </tr>\n",
       "    <tr>\n",
       "      <th>997</th>\n",
       "      <td>나도 손글씨 바르게 쓰면 소원이 없겠네(핸디 워크북)</td>\n",
       "      <td>아무때나 시간 날 때 틈틈이\\n지하철ㆍ학교ㆍ회사ㆍ카페ㆍ집 어느 장소에서도\\n편하게 ...</td>\n",
       "      <td>['악필', '교정', '원고지', '정자체', '스프링', '지하철']</td>\n",
       "    </tr>\n",
       "    <tr>\n",
       "      <th>998</th>\n",
       "      <td>한자자격시험 7급(교양한자급수시험대비)</td>\n",
       "      <td>NaN</td>\n",
       "      <td>['필순', '짜임', '모범 답안', '회분', '기출문제', '연습 문제']</td>\n",
       "    </tr>\n",
       "    <tr>\n",
       "      <th>999</th>\n",
       "      <td>성격의 탄생</td>\n",
       "      <td>내 성격은 어떻게 만들어진 걸까?\\n왜 사람마다 성격이 다를까?\\n성격을 바꿀 수 ...</td>\n",
       "      <td>['과학', '외향성', '유전학', '친화성', '규명', '개인차']</td>\n",
       "    </tr>\n",
       "  </tbody>\n",
       "</table>\n",
       "<p>1000 rows × 3 columns</p>\n",
       "</div>"
      ],
      "text/plain": [
       "                                                   상품명  \\\n",
       "0                                         문과 남자의 과학 공부   \n",
       "1                                             도둑맞은 집중력   \n",
       "2                                            모든 삶은 흐른다   \n",
       "3                                                 내면소통   \n",
       "4    2023 큰별쌤 최태성의 별별한국사 기출 500제 한국사능력검정시험 심화(1, 2,...   \n",
       "..                                                 ...   \n",
       "995                                                 표준   \n",
       "996                              삼국지연의보다 재미있는 정사 삼국지 1   \n",
       "997                      나도 손글씨 바르게 쓰면 소원이 없겠네(핸디 워크북)   \n",
       "998                              한자자격시험 7급(교양한자급수시험대비)   \n",
       "999                                             성격의 탄생   \n",
       "\n",
       "                                                   책소개  \\\n",
       "0    과학 공부로 길어 올린 생명과 우주에 관한 진실, 인간과 사회를 이해하는 방법\\n“...   \n",
       "1    ★아마존, 월 스트리트 저널 올해의 책★\\n★애덤 그랜트·수전 케인·힐러리 클린턴 ...   \n",
       "2    “이 책은 흐르는 삶 속에서 ‘자기 자신’이라는 유일한 섬이 되는 길을 안내한다. ...   \n",
       "3    “나와 세상을 바꾸는 힘은 불굴의 의지가 아니라\\n실패를 두려워하지 않는 마음근력에...   \n",
       "4    \"2023년 65회 시험부터 2021년 56회 시험까지 최신 기출문제 10회분, 총...   \n",
       "..                                                 ...   \n",
       "995  제4판 표준 중세 국어 문법론에서는 지난 10년 동안에 나온 중세어 관련 문법 업적...   \n",
       "996  20만 구독자가 열광한 화제의 유튜브 역사채널 〈써에이스쇼〉의 삼국지\\n누적 조회 ...   \n",
       "997  아무때나 시간 날 때 틈틈이\\n지하철ㆍ학교ㆍ회사ㆍ카페ㆍ집 어느 장소에서도\\n편하게 ...   \n",
       "998                                                NaN   \n",
       "999  내 성격은 어떻게 만들어진 걸까?\\n왜 사람마다 성격이 다를까?\\n성격을 바꿀 수 ...   \n",
       "\n",
       "                                                키워드  \n",
       "0          ['뇌과학', '양자 역학', '회한', '우주', '문과', '사유']  \n",
       "1          ['주의력', '비만', '증가', '유행병', '정크푸드', '테크']  \n",
       "2         ['바다', '곡예', '이해인', '레르', '프랑스 최고', '상어']  \n",
       "3    ['뇌과학', '편도체', '경기력 향상', '뇌 발달', '블랭킷', '선문답']  \n",
       "4         ['앞표지', '선택지', '킬러 문항', '열매', '난도', '리더']  \n",
       "..                                              ...  \n",
       "995       ['품사론', '형태론', '통사론', '표기법', '겹문장', '발음']  \n",
       "996    ['판타지', '황건적', '유비', '컬러 삽화', '위촉', '실제 역사']  \n",
       "997        ['악필', '교정', '원고지', '정자체', '스프링', '지하철']  \n",
       "998    ['필순', '짜임', '모범 답안', '회분', '기출문제', '연습 문제']  \n",
       "999        ['과학', '외향성', '유전학', '친화성', '규명', '개인차']  \n",
       "\n",
       "[1000 rows x 3 columns]"
      ]
     },
     "execution_count": 117,
     "metadata": {},
     "output_type": "execute_result"
    }
   ],
   "source": [
    "인문_ori = pd.read_excel(path + '/크롤링/인문_키워드 Pick.xlsx')\n",
    "인문_ori = 인문_ori.iloc[:, 1:]\n",
    "인문_ori"
   ]
  },
  {
   "cell_type": "markdown",
   "id": "4862ae4e",
   "metadata": {},
   "source": [
    "- 22권 '책소개' 없음\n",
    "- 55권 '키워드픽' 없음"
   ]
  },
  {
   "cell_type": "code",
   "execution_count": 119,
   "id": "4ab57a7c",
   "metadata": {},
   "outputs": [
    {
     "data": {
      "text/plain": [
       "22"
      ]
     },
     "execution_count": 119,
     "metadata": {},
     "output_type": "execute_result"
    }
   ],
   "source": [
    "len(인문_ori[인문_ori['책소개'].isnull()])"
   ]
  },
  {
   "cell_type": "code",
   "execution_count": 120,
   "id": "dc8511d2",
   "metadata": {},
   "outputs": [
    {
     "data": {
      "text/plain": [
       "0"
      ]
     },
     "execution_count": 120,
     "metadata": {},
     "output_type": "execute_result"
    }
   ],
   "source": [
    "len(인문_ori[인문_ori['책소개'].apply(lambda x: x=='[]')])"
   ]
  },
  {
   "cell_type": "code",
   "execution_count": 121,
   "id": "1f5aa520",
   "metadata": {},
   "outputs": [
    {
     "data": {
      "text/plain": [
       "55"
      ]
     },
     "execution_count": 121,
     "metadata": {},
     "output_type": "execute_result"
    }
   ],
   "source": [
    "len(인문_ori[인문_ori['키워드'].apply(lambda x: x=='[]')])"
   ]
  },
  {
   "cell_type": "markdown",
   "id": "9f475a00",
   "metadata": {},
   "source": [
    "'책소개' 없는 22권 제거"
   ]
  },
  {
   "cell_type": "code",
   "execution_count": 122,
   "id": "86b8e917",
   "metadata": {},
   "outputs": [
    {
     "data": {
      "text/plain": [
       "0"
      ]
     },
     "execution_count": 122,
     "metadata": {},
     "output_type": "execute_result"
    }
   ],
   "source": [
    "인문 = 인문_ori[~인문_ori['책소개'].isnull()]\n",
    "len(인문[인문['책소개'].isnull()])"
   ]
  },
  {
   "cell_type": "markdown",
   "id": "ae4997db",
   "metadata": {},
   "source": [
    "'키워드픽' 없는 55권 제거"
   ]
  },
  {
   "cell_type": "code",
   "execution_count": 123,
   "id": "bb55ca7d",
   "metadata": {},
   "outputs": [
    {
     "data": {
      "text/plain": [
       "0"
      ]
     },
     "execution_count": 123,
     "metadata": {},
     "output_type": "execute_result"
    }
   ],
   "source": [
    "인문 = 인문[인문['키워드']!='[]']\n",
    "len(인문[인문['키워드'].apply(lambda x: x=='[]')])"
   ]
  },
  {
   "cell_type": "markdown",
   "id": "7c4fb13e",
   "metadata": {},
   "source": [
    "'인문' 키워드 추가"
   ]
  },
  {
   "cell_type": "code",
   "execution_count": 124,
   "id": "9e519e38",
   "metadata": {},
   "outputs": [],
   "source": [
    "인문['키워드'] = 인문['키워드'].apply(lambda x: literal_eval(x))\n",
    "인문['키워드'].apply(lambda x: x.append('인문'))\n",
    "인문['키워드']"
   ]
  },
  {
   "cell_type": "code",
   "execution_count": 125,
   "id": "def8a731",
   "metadata": {},
   "outputs": [],
   "source": [
    "인문.to_excel(path + \"/데이터 전처리/인문_전처리후.xlsx\")"
   ]
  },
  {
   "cell_type": "code",
   "execution_count": null,
   "id": "b1d540d5",
   "metadata": {},
   "outputs": [],
   "source": []
  },
  {
   "cell_type": "markdown",
   "id": "806ede61",
   "metadata": {},
   "source": [
    "### 전체 분야 베스트셀러 리스트 종합"
   ]
  },
  {
   "cell_type": "code",
   "execution_count": 126,
   "id": "33a700b4",
   "metadata": {},
   "outputs": [],
   "source": [
    "경제경영_pre = pd.read_excel(path + '/데이터 전처리/경제경영_전처리후.xlsx')\n",
    "자기계발_pre = pd.read_excel(path + '/데이터 전처리/자기계발_전처리후.xlsx')\n",
    "소설_pre = pd.read_excel(path + '/데이터 전처리/소설_전처리후.xlsx')\n",
    "인문_pre = pd.read_excel(path + '/데이터 전처리/인문_전처리후.xlsx')"
   ]
  },
  {
   "cell_type": "code",
   "execution_count": 128,
   "id": "fc5ff573",
   "metadata": {},
   "outputs": [],
   "source": [
    "경제경영_pre = 경제경영_pre.iloc[:, 1:]\n",
    "자기계발_pre = 자기계발_pre.iloc[:, 1:]\n",
    "소설_pre = 소설_pre.iloc[:, 1:]\n",
    "인문_pre = 인문_pre.iloc[:, 1:]"
   ]
  },
  {
   "cell_type": "code",
   "execution_count": 129,
   "id": "e747ba14",
   "metadata": {},
   "outputs": [
    {
     "name": "stdout",
     "output_type": "stream",
     "text": [
      "<class 'pandas.core.frame.DataFrame'>\n",
      "RangeIndex: 936 entries, 0 to 935\n",
      "Data columns (total 3 columns):\n",
      " #   Column  Non-Null Count  Dtype \n",
      "---  ------  --------------  ----- \n",
      " 0   상품명     936 non-null    object\n",
      " 1   책소개     936 non-null    object\n",
      " 2   키워드     936 non-null    object\n",
      "dtypes: object(3)\n",
      "memory usage: 22.1+ KB\n",
      "None\n",
      "<class 'pandas.core.frame.DataFrame'>\n",
      "RangeIndex: 916 entries, 0 to 915\n",
      "Data columns (total 3 columns):\n",
      " #   Column  Non-Null Count  Dtype \n",
      "---  ------  --------------  ----- \n",
      " 0   상품명     916 non-null    object\n",
      " 1   책소개     916 non-null    object\n",
      " 2   키워드     916 non-null    object\n",
      "dtypes: object(3)\n",
      "memory usage: 21.6+ KB\n",
      "None\n",
      "<class 'pandas.core.frame.DataFrame'>\n",
      "RangeIndex: 938 entries, 0 to 937\n",
      "Data columns (total 3 columns):\n",
      " #   Column  Non-Null Count  Dtype \n",
      "---  ------  --------------  ----- \n",
      " 0   상품명     938 non-null    object\n",
      " 1   책소개     938 non-null    object\n",
      " 2   키워드     938 non-null    object\n",
      "dtypes: object(3)\n",
      "memory usage: 22.1+ KB\n",
      "None\n",
      "<class 'pandas.core.frame.DataFrame'>\n",
      "RangeIndex: 925 entries, 0 to 924\n",
      "Data columns (total 3 columns):\n",
      " #   Column  Non-Null Count  Dtype \n",
      "---  ------  --------------  ----- \n",
      " 0   상품명     925 non-null    object\n",
      " 1   책소개     925 non-null    object\n",
      " 2   키워드     925 non-null    object\n",
      "dtypes: object(3)\n",
      "memory usage: 21.8+ KB\n",
      "None\n"
     ]
    }
   ],
   "source": [
    "print(경제경영_pre.info())\n",
    "print(자기계발_pre.info())\n",
    "print(소설_pre.info())\n",
    "print(인문_pre.info())"
   ]
  },
  {
   "cell_type": "code",
   "execution_count": 130,
   "id": "eff15380",
   "metadata": {},
   "outputs": [
    {
     "data": {
      "text/html": [
       "<div>\n",
       "<style scoped>\n",
       "    .dataframe tbody tr th:only-of-type {\n",
       "        vertical-align: middle;\n",
       "    }\n",
       "\n",
       "    .dataframe tbody tr th {\n",
       "        vertical-align: top;\n",
       "    }\n",
       "\n",
       "    .dataframe thead th {\n",
       "        text-align: right;\n",
       "    }\n",
       "</style>\n",
       "<table border=\"1\" class=\"dataframe\">\n",
       "  <thead>\n",
       "    <tr style=\"text-align: right;\">\n",
       "      <th></th>\n",
       "      <th>상품명</th>\n",
       "      <th>책소개</th>\n",
       "      <th>키워드</th>\n",
       "    </tr>\n",
       "  </thead>\n",
       "  <tbody>\n",
       "    <tr>\n",
       "      <th>0</th>\n",
       "      <td>위기의 역사</td>\n",
       "      <td>40만 독자가 선택한 오건영의 글로벌 경제사 특강\\n누적 조회 수 550만 회 달성...</td>\n",
       "      <td>['금리', '모기지', '흥국', '저금리', '글로벌 금융 위기', '실리콘밸리...</td>\n",
       "    </tr>\n",
       "    <tr>\n",
       "      <th>1</th>\n",
       "      <td>돈의 속성(300쇄 리커버에디션)</td>\n",
       "      <td>2020ㆍ2021ㆍ2022ㆍ2023 4년 연속 최장기 베스트셀러\\n80만 깨어있는 ...</td>\n",
       "      <td>['부자되는법', '종잣돈', '회장', '투자 원칙', '경제철학', '주식 시장...</td>\n",
       "    </tr>\n",
       "    <tr>\n",
       "      <th>2</th>\n",
       "      <td>부자의 그릇</td>\n",
       "      <td>수많은 젊은 부자가 꼽은 최고의 ‘부자학 입문서’ 『부자의 그릇』 양장 개정판\\n“...</td>\n",
       "      <td>['부자되는법', '신용', '소설 형식', '배트', '경제이야기', '사업 아이...</td>\n",
       "    </tr>\n",
       "    <tr>\n",
       "      <th>3</th>\n",
       "      <td>사장학개론</td>\n",
       "      <td>이 책은 과거와 현재,\\n미래의 모든 사장을 위한 실무 지침서다\\n이 책은 한국과 ...</td>\n",
       "      <td>['창업', '매출', '직원', '장학', '기업인', '사업', '경제경영']</td>\n",
       "    </tr>\n",
       "    <tr>\n",
       "      <th>4</th>\n",
       "      <td>EBS 다큐프라임</td>\n",
       "      <td>우리가 반드시 알아야 할 자본주의의 진실!\\n『자본주의』는 자본주의를 쉽게 풀어낸 ...</td>\n",
       "      <td>['재테크', '경제학', '중앙은행', '케인스', '경제이론', '국부론', '...</td>\n",
       "    </tr>\n",
       "    <tr>\n",
       "      <th>...</th>\n",
       "      <td>...</td>\n",
       "      <td>...</td>\n",
       "      <td>...</td>\n",
       "    </tr>\n",
       "    <tr>\n",
       "      <th>3710</th>\n",
       "      <td>독서의 역사</td>\n",
       "      <td>“독서를 다룬 책 중 가장 빼어난 이야기”\\n언어의 파수꾼이자 책의 수호자, 세계 ...</td>\n",
       "      <td>['독서가', '움베르토 에코', '분서갱유', '지배 세력', '성서', '진시황...</td>\n",
       "    </tr>\n",
       "    <tr>\n",
       "      <th>3711</th>\n",
       "      <td>표준</td>\n",
       "      <td>제4판 표준 중세 국어 문법론에서는 지난 10년 동안에 나온 중세어 관련 문법 업적...</td>\n",
       "      <td>['품사론', '형태론', '통사론', '표기법', '겹문장', '발음', '인문']</td>\n",
       "    </tr>\n",
       "    <tr>\n",
       "      <th>3712</th>\n",
       "      <td>삼국지연의보다 재미있는 정사 삼국지 1</td>\n",
       "      <td>20만 구독자가 열광한 화제의 유튜브 역사채널 〈써에이스쇼〉의 삼국지\\n누적 조회 ...</td>\n",
       "      <td>['판타지', '황건적', '유비', '컬러 삽화', '위촉', '실제 역사', '...</td>\n",
       "    </tr>\n",
       "    <tr>\n",
       "      <th>3713</th>\n",
       "      <td>나도 손글씨 바르게 쓰면 소원이 없겠네(핸디 워크북)</td>\n",
       "      <td>아무때나 시간 날 때 틈틈이\\n지하철ㆍ학교ㆍ회사ㆍ카페ㆍ집 어느 장소에서도\\n편하게 ...</td>\n",
       "      <td>['악필', '교정', '원고지', '정자체', '스프링', '지하철', '인문']</td>\n",
       "    </tr>\n",
       "    <tr>\n",
       "      <th>3714</th>\n",
       "      <td>성격의 탄생</td>\n",
       "      <td>내 성격은 어떻게 만들어진 걸까?\\n왜 사람마다 성격이 다를까?\\n성격을 바꿀 수 ...</td>\n",
       "      <td>['과학', '외향성', '유전학', '친화성', '규명', '개인차', '인문']</td>\n",
       "    </tr>\n",
       "  </tbody>\n",
       "</table>\n",
       "<p>3715 rows × 3 columns</p>\n",
       "</div>"
      ],
      "text/plain": [
       "                                상품명  \\\n",
       "0                            위기의 역사   \n",
       "1                돈의 속성(300쇄 리커버에디션)   \n",
       "2                            부자의 그릇   \n",
       "3                             사장학개론   \n",
       "4                         EBS 다큐프라임   \n",
       "...                             ...   \n",
       "3710                         독서의 역사   \n",
       "3711                             표준   \n",
       "3712          삼국지연의보다 재미있는 정사 삼국지 1   \n",
       "3713  나도 손글씨 바르게 쓰면 소원이 없겠네(핸디 워크북)   \n",
       "3714                         성격의 탄생   \n",
       "\n",
       "                                                    책소개  \\\n",
       "0     40만 독자가 선택한 오건영의 글로벌 경제사 특강\\n누적 조회 수 550만 회 달성...   \n",
       "1     2020ㆍ2021ㆍ2022ㆍ2023 4년 연속 최장기 베스트셀러\\n80만 깨어있는 ...   \n",
       "2     수많은 젊은 부자가 꼽은 최고의 ‘부자학 입문서’ 『부자의 그릇』 양장 개정판\\n“...   \n",
       "3     이 책은 과거와 현재,\\n미래의 모든 사장을 위한 실무 지침서다\\n이 책은 한국과 ...   \n",
       "4     우리가 반드시 알아야 할 자본주의의 진실!\\n『자본주의』는 자본주의를 쉽게 풀어낸 ...   \n",
       "...                                                 ...   \n",
       "3710  “독서를 다룬 책 중 가장 빼어난 이야기”\\n언어의 파수꾼이자 책의 수호자, 세계 ...   \n",
       "3711  제4판 표준 중세 국어 문법론에서는 지난 10년 동안에 나온 중세어 관련 문법 업적...   \n",
       "3712  20만 구독자가 열광한 화제의 유튜브 역사채널 〈써에이스쇼〉의 삼국지\\n누적 조회 ...   \n",
       "3713  아무때나 시간 날 때 틈틈이\\n지하철ㆍ학교ㆍ회사ㆍ카페ㆍ집 어느 장소에서도\\n편하게 ...   \n",
       "3714  내 성격은 어떻게 만들어진 걸까?\\n왜 사람마다 성격이 다를까?\\n성격을 바꿀 수 ...   \n",
       "\n",
       "                                                    키워드  \n",
       "0     ['금리', '모기지', '흥국', '저금리', '글로벌 금융 위기', '실리콘밸리...  \n",
       "1     ['부자되는법', '종잣돈', '회장', '투자 원칙', '경제철학', '주식 시장...  \n",
       "2     ['부자되는법', '신용', '소설 형식', '배트', '경제이야기', '사업 아이...  \n",
       "3         ['창업', '매출', '직원', '장학', '기업인', '사업', '경제경영']  \n",
       "4     ['재테크', '경제학', '중앙은행', '케인스', '경제이론', '국부론', '...  \n",
       "...                                                 ...  \n",
       "3710  ['독서가', '움베르토 에코', '분서갱유', '지배 세력', '성서', '진시황...  \n",
       "3711    ['품사론', '형태론', '통사론', '표기법', '겹문장', '발음', '인문']  \n",
       "3712  ['판타지', '황건적', '유비', '컬러 삽화', '위촉', '실제 역사', '...  \n",
       "3713     ['악필', '교정', '원고지', '정자체', '스프링', '지하철', '인문']  \n",
       "3714     ['과학', '외향성', '유전학', '친화성', '규명', '개인차', '인문']  \n",
       "\n",
       "[3715 rows x 3 columns]"
      ]
     },
     "execution_count": 130,
     "metadata": {},
     "output_type": "execute_result"
    }
   ],
   "source": [
    "베스트셀러 = pd.concat([경제경영_pre, 자기계발_pre, 소설_pre, 인문_pre], ignore_index=True)\n",
    "베스트셀러"
   ]
  },
  {
   "cell_type": "code",
   "execution_count": null,
   "id": "c03e41e9",
   "metadata": {},
   "outputs": [],
   "source": []
  },
  {
   "cell_type": "markdown",
   "id": "e31c2d59",
   "metadata": {},
   "source": [
    "### 중복 데이터 확인"
   ]
  },
  {
   "cell_type": "code",
   "execution_count": 161,
   "id": "3d3e27ee",
   "metadata": {},
   "outputs": [],
   "source": [
    "best = 베스트셀러.copy()"
   ]
  },
  {
   "cell_type": "code",
   "execution_count": 162,
   "id": "fd3042bc",
   "metadata": {},
   "outputs": [
    {
     "data": {
      "text/plain": [
       "상품명    0\n",
       "책소개    0\n",
       "키워드    0\n",
       "dtype: int64"
      ]
     },
     "execution_count": 162,
     "metadata": {},
     "output_type": "execute_result"
    }
   ],
   "source": [
    "best.isnull().sum()"
   ]
  },
  {
   "cell_type": "markdown",
   "id": "78a7465e",
   "metadata": {},
   "source": [
    "#### 완전 중복된 데이터\n",
    "\n",
    "- 링크로 들어가 확인한 결과 일반 도서와 양장본이 서로 다른 도서로 입력되어 있어서 나타난 문제\n",
    "- 결과적으로 같은 도서라고 판단, 중복 제거 진행"
   ]
  },
  {
   "cell_type": "code",
   "execution_count": 163,
   "id": "65192597",
   "metadata": {},
   "outputs": [
    {
     "data": {
      "text/plain": [
       "2"
      ]
     },
     "execution_count": 163,
     "metadata": {},
     "output_type": "execute_result"
    }
   ],
   "source": [
    "best.duplicated().sum()"
   ]
  },
  {
   "cell_type": "code",
   "execution_count": 164,
   "id": "ec781075",
   "metadata": {},
   "outputs": [
    {
     "data": {
      "text/html": [
       "<div>\n",
       "<style scoped>\n",
       "    .dataframe tbody tr th:only-of-type {\n",
       "        vertical-align: middle;\n",
       "    }\n",
       "\n",
       "    .dataframe tbody tr th {\n",
       "        vertical-align: top;\n",
       "    }\n",
       "\n",
       "    .dataframe thead th {\n",
       "        text-align: right;\n",
       "    }\n",
       "</style>\n",
       "<table border=\"1\" class=\"dataframe\">\n",
       "  <thead>\n",
       "    <tr style=\"text-align: right;\">\n",
       "      <th></th>\n",
       "      <th>상품명</th>\n",
       "      <th>책소개</th>\n",
       "      <th>키워드</th>\n",
       "    </tr>\n",
       "  </thead>\n",
       "  <tbody>\n",
       "    <tr>\n",
       "      <th>2154</th>\n",
       "      <td>해리 포터와 불의 잔 2(해리포터 20주년 개정판)</td>\n",
       "      <td>우리 시대에 가장 사랑받는 21세기의 고전 《해리포터》를 고전답게 재해석하다!\\n선...</td>\n",
       "      <td>['성장소설', '판타지소설', '영화원작소설', '세대', '영국소설', '영미소...</td>\n",
       "    </tr>\n",
       "    <tr>\n",
       "      <th>2155</th>\n",
       "      <td>해리 포터와 불의 잔 1(해리포터 20주년 개정판)</td>\n",
       "      <td>우리 시대에 가장 사랑받는 21세기의 고전 《해리포터》를 고전답게 재해석하다!\\n선...</td>\n",
       "      <td>['성장소설', '판타지소설', '영화원작소설', '세대', '영국소설', '영미소...</td>\n",
       "    </tr>\n",
       "    <tr>\n",
       "      <th>2400</th>\n",
       "      <td>해리 포터와 불의 잔 2(해리포터 20주년 개정판)</td>\n",
       "      <td>우리 시대에 가장 사랑받는 21세기의 고전 《해리포터》를 고전답게 재해석하다!\\n선...</td>\n",
       "      <td>['성장소설', '판타지소설', '영화원작소설', '세대', '영국소설', '영미소...</td>\n",
       "    </tr>\n",
       "    <tr>\n",
       "      <th>2401</th>\n",
       "      <td>해리 포터와 불의 잔 1(해리포터 20주년 개정판)</td>\n",
       "      <td>우리 시대에 가장 사랑받는 21세기의 고전 《해리포터》를 고전답게 재해석하다!\\n선...</td>\n",
       "      <td>['성장소설', '판타지소설', '영화원작소설', '세대', '영국소설', '영미소...</td>\n",
       "    </tr>\n",
       "  </tbody>\n",
       "</table>\n",
       "</div>"
      ],
      "text/plain": [
       "                               상품명  \\\n",
       "2154  해리 포터와 불의 잔 2(해리포터 20주년 개정판)   \n",
       "2155  해리 포터와 불의 잔 1(해리포터 20주년 개정판)   \n",
       "2400  해리 포터와 불의 잔 2(해리포터 20주년 개정판)   \n",
       "2401  해리 포터와 불의 잔 1(해리포터 20주년 개정판)   \n",
       "\n",
       "                                                    책소개  \\\n",
       "2154  우리 시대에 가장 사랑받는 21세기의 고전 《해리포터》를 고전답게 재해석하다!\\n선...   \n",
       "2155  우리 시대에 가장 사랑받는 21세기의 고전 《해리포터》를 고전답게 재해석하다!\\n선...   \n",
       "2400  우리 시대에 가장 사랑받는 21세기의 고전 《해리포터》를 고전답게 재해석하다!\\n선...   \n",
       "2401  우리 시대에 가장 사랑받는 21세기의 고전 《해리포터》를 고전답게 재해석하다!\\n선...   \n",
       "\n",
       "                                                    키워드  \n",
       "2154  ['성장소설', '판타지소설', '영화원작소설', '세대', '영국소설', '영미소...  \n",
       "2155  ['성장소설', '판타지소설', '영화원작소설', '세대', '영국소설', '영미소...  \n",
       "2400  ['성장소설', '판타지소설', '영화원작소설', '세대', '영국소설', '영미소...  \n",
       "2401  ['성장소설', '판타지소설', '영화원작소설', '세대', '영국소설', '영미소...  "
      ]
     },
     "execution_count": 164,
     "metadata": {},
     "output_type": "execute_result"
    }
   ],
   "source": [
    "best[best.duplicated(keep=False)]"
   ]
  },
  {
   "cell_type": "code",
   "execution_count": 165,
   "id": "23dde2ce",
   "metadata": {},
   "outputs": [],
   "source": [
    "best = best.drop_duplicates(keep='last',ignore_index=True)"
   ]
  },
  {
   "cell_type": "code",
   "execution_count": 166,
   "id": "637cd9a0",
   "metadata": {},
   "outputs": [
    {
     "data": {
      "text/html": [
       "<div>\n",
       "<style scoped>\n",
       "    .dataframe tbody tr th:only-of-type {\n",
       "        vertical-align: middle;\n",
       "    }\n",
       "\n",
       "    .dataframe tbody tr th {\n",
       "        vertical-align: top;\n",
       "    }\n",
       "\n",
       "    .dataframe thead th {\n",
       "        text-align: right;\n",
       "    }\n",
       "</style>\n",
       "<table border=\"1\" class=\"dataframe\">\n",
       "  <thead>\n",
       "    <tr style=\"text-align: right;\">\n",
       "      <th></th>\n",
       "      <th>상품명</th>\n",
       "      <th>책소개</th>\n",
       "      <th>키워드</th>\n",
       "    </tr>\n",
       "  </thead>\n",
       "  <tbody>\n",
       "    <tr>\n",
       "      <th>2398</th>\n",
       "      <td>해리 포터와 불의 잔 2(해리포터 20주년 개정판)</td>\n",
       "      <td>우리 시대에 가장 사랑받는 21세기의 고전 《해리포터》를 고전답게 재해석하다!\\n선...</td>\n",
       "      <td>['성장소설', '판타지소설', '영화원작소설', '세대', '영국소설', '영미소...</td>\n",
       "    </tr>\n",
       "  </tbody>\n",
       "</table>\n",
       "</div>"
      ],
      "text/plain": [
       "                               상품명  \\\n",
       "2398  해리 포터와 불의 잔 2(해리포터 20주년 개정판)   \n",
       "\n",
       "                                                    책소개  \\\n",
       "2398  우리 시대에 가장 사랑받는 21세기의 고전 《해리포터》를 고전답게 재해석하다!\\n선...   \n",
       "\n",
       "                                                    키워드  \n",
       "2398  ['성장소설', '판타지소설', '영화원작소설', '세대', '영국소설', '영미소...  "
      ]
     },
     "execution_count": 166,
     "metadata": {},
     "output_type": "execute_result"
    }
   ],
   "source": [
    "best[best['상품명']=='해리 포터와 불의 잔 2(해리포터 20주년 개정판)']"
   ]
  },
  {
   "cell_type": "markdown",
   "id": "d6309183",
   "metadata": {},
   "source": [
    "#### 제목이 동일한 데이터\n",
    "\n",
    "- 서로 다른 책이지만 동일한 책 제목을 가진 경우에 해당\n",
    "- 도서 고유번호, 출판사, 작가 등 제목 외 도서 자체를 정의할 수 있는 추가 정보가 있다면 더 정확했을 것으로 기대"
   ]
  },
  {
   "cell_type": "code",
   "execution_count": 167,
   "id": "83b840c4",
   "metadata": {},
   "outputs": [
    {
     "data": {
      "text/html": [
       "<div>\n",
       "<style scoped>\n",
       "    .dataframe tbody tr th:only-of-type {\n",
       "        vertical-align: middle;\n",
       "    }\n",
       "\n",
       "    .dataframe tbody tr th {\n",
       "        vertical-align: top;\n",
       "    }\n",
       "\n",
       "    .dataframe thead th {\n",
       "        text-align: right;\n",
       "    }\n",
       "</style>\n",
       "<table border=\"1\" class=\"dataframe\">\n",
       "  <thead>\n",
       "    <tr style=\"text-align: right;\">\n",
       "      <th></th>\n",
       "      <th>상품명</th>\n",
       "      <th>책소개</th>\n",
       "      <th>키워드</th>\n",
       "    </tr>\n",
       "  </thead>\n",
       "  <tbody>\n",
       "    <tr>\n",
       "      <th>4</th>\n",
       "      <td>EBS 다큐프라임</td>\n",
       "      <td>우리가 반드시 알아야 할 자본주의의 진실!\\n『자본주의』는 자본주의를 쉽게 풀어낸 ...</td>\n",
       "      <td>['재테크', '경제학', '중앙은행', '케인스', '경제이론', '국부론', '...</td>\n",
       "    </tr>\n",
       "    <tr>\n",
       "      <th>56</th>\n",
       "      <td>차가운 자본주의</td>\n",
       "      <td>차갑지만 아름다운 자본주의 시장경제\\n\\n반년 만에 40만 경제 유튜버가 된\\n윤루...</td>\n",
       "      <td>['잔혹', '폭격', '위선', '부지기수', '필체', '직시', '경제경영']</td>\n",
       "    </tr>\n",
       "    <tr>\n",
       "      <th>73</th>\n",
       "      <td>주식시장에서 살아남는</td>\n",
       "      <td>2020년 전면 개정판\\n아마존 금융·투자 분야 베스트셀러\\n전 세계 10개 국어 ...</td>\n",
       "      <td>['주식투자', '트레이딩', '트레이더', '주식 시장', '초보 투자자', '투...</td>\n",
       "    </tr>\n",
       "    <tr>\n",
       "      <th>164</th>\n",
       "      <td>IFRS 회계원리</td>\n",
       "      <td>본서의 특징은 다음과 같다.\\n\\n첫째, 최근까지 개정된 국제회계기준의 내용을 충실...</td>\n",
       "      <td>['재무 보고', '회계 처리', '수험', '금융 상품', '개념 체계', '공인...</td>\n",
       "    </tr>\n",
       "    <tr>\n",
       "      <th>178</th>\n",
       "      <td>투자는 심리게임이다</td>\n",
       "      <td>전설적인 투자자,\\n앙드레 코스톨라니가 들려주는 투자의 정글에서 살아남기\\n증권시장...</td>\n",
       "      <td>['주식투자', '거래량', '주식 시장', '주식 투자자', '경제전망', '투자...</td>\n",
       "    </tr>\n",
       "    <tr>\n",
       "      <th>...</th>\n",
       "      <td>...</td>\n",
       "      <td>...</td>\n",
       "      <td>...</td>\n",
       "    </tr>\n",
       "    <tr>\n",
       "      <th>3311</th>\n",
       "      <td>명상록</td>\n",
       "      <td>철학자가 번역한 고대 희랍어 원전 완역본\\n고통, 질병, 분노, 상실에서 회복하는 ...</td>\n",
       "      <td>['관찰력', '훈련', '예술 철학', '김동훈', '글줄', '희랍어', '인문']</td>\n",
       "    </tr>\n",
       "    <tr>\n",
       "      <th>3355</th>\n",
       "      <td>논어</td>\n",
       "      <td>당신이 평생 곁에 두고 읽을 단 한 권의 《논어》!\\n앞으로도 이런 《논어》는 없을...</td>\n",
       "      <td>['위 령공', '헌문', '계씨', '향당', '각축장', '안연', '인문']</td>\n",
       "    </tr>\n",
       "    <tr>\n",
       "      <th>3378</th>\n",
       "      <td>군주론</td>\n",
       "      <td>마키아벨리 전공 학자가 번역에 참여한\\n「군주론」의 한국 최초의 이탈리아어 원전 번...</td>\n",
       "      <td>['마키아벨리즘', '정치철학', '이탈리아어', '번역판', '근대 철학', '원...</td>\n",
       "    </tr>\n",
       "    <tr>\n",
       "      <th>3588</th>\n",
       "      <td>자유론</td>\n",
       "      <td>나의 자유, 우리의 자유\\n진정한 자유를 돌아보다\\n\\n우리가 지키며 누려야 할 자...</td>\n",
       "      <td>['권한', '다수파', '소수 의견', '행사', '사회 국가', '미풍양속', ...</td>\n",
       "    </tr>\n",
       "    <tr>\n",
       "      <th>3634</th>\n",
       "      <td>큰별쌤 최태성의 별별한국사 7일의 기적 한국사능력검정시험 심화(1, 2, 3급)</td>\n",
       "      <td>〈큰별쌤 최태성의 별별한국사 7일의 기적 한국사능력검정시험 심화〉\\n\\n1. 핵심 ...</td>\n",
       "      <td>['판서', '기출 자료', '기출 모의고사', '빈출 주제', '최종 점검', '...</td>\n",
       "    </tr>\n",
       "  </tbody>\n",
       "</table>\n",
       "<p>114 rows × 3 columns</p>\n",
       "</div>"
      ],
      "text/plain": [
       "                                               상품명  \\\n",
       "4                                        EBS 다큐프라임   \n",
       "56                                        차가운 자본주의   \n",
       "73                                     주식시장에서 살아남는   \n",
       "164                                      IFRS 회계원리   \n",
       "178                                     투자는 심리게임이다   \n",
       "...                                            ...   \n",
       "3311                                           명상록   \n",
       "3355                                            논어   \n",
       "3378                                           군주론   \n",
       "3588                                           자유론   \n",
       "3634  큰별쌤 최태성의 별별한국사 7일의 기적 한국사능력검정시험 심화(1, 2, 3급)   \n",
       "\n",
       "                                                    책소개  \\\n",
       "4     우리가 반드시 알아야 할 자본주의의 진실!\\n『자본주의』는 자본주의를 쉽게 풀어낸 ...   \n",
       "56    차갑지만 아름다운 자본주의 시장경제\\n\\n반년 만에 40만 경제 유튜버가 된\\n윤루...   \n",
       "73    2020년 전면 개정판\\n아마존 금융·투자 분야 베스트셀러\\n전 세계 10개 국어 ...   \n",
       "164   본서의 특징은 다음과 같다.\\n\\n첫째, 최근까지 개정된 국제회계기준의 내용을 충실...   \n",
       "178   전설적인 투자자,\\n앙드레 코스톨라니가 들려주는 투자의 정글에서 살아남기\\n증권시장...   \n",
       "...                                                 ...   \n",
       "3311  철학자가 번역한 고대 희랍어 원전 완역본\\n고통, 질병, 분노, 상실에서 회복하는 ...   \n",
       "3355  당신이 평생 곁에 두고 읽을 단 한 권의 《논어》!\\n앞으로도 이런 《논어》는 없을...   \n",
       "3378  마키아벨리 전공 학자가 번역에 참여한\\n「군주론」의 한국 최초의 이탈리아어 원전 번...   \n",
       "3588  나의 자유, 우리의 자유\\n진정한 자유를 돌아보다\\n\\n우리가 지키며 누려야 할 자...   \n",
       "3634  〈큰별쌤 최태성의 별별한국사 7일의 기적 한국사능력검정시험 심화〉\\n\\n1. 핵심 ...   \n",
       "\n",
       "                                                    키워드  \n",
       "4     ['재테크', '경제학', '중앙은행', '케인스', '경제이론', '국부론', '...  \n",
       "56       ['잔혹', '폭격', '위선', '부지기수', '필체', '직시', '경제경영']  \n",
       "73    ['주식투자', '트레이딩', '트레이더', '주식 시장', '초보 투자자', '투...  \n",
       "164   ['재무 보고', '회계 처리', '수험', '금융 상품', '개념 체계', '공인...  \n",
       "178   ['주식투자', '거래량', '주식 시장', '주식 투자자', '경제전망', '투자...  \n",
       "...                                                 ...  \n",
       "3311   ['관찰력', '훈련', '예술 철학', '김동훈', '글줄', '희랍어', '인문']  \n",
       "3355      ['위 령공', '헌문', '계씨', '향당', '각축장', '안연', '인문']  \n",
       "3378  ['마키아벨리즘', '정치철학', '이탈리아어', '번역판', '근대 철학', '원...  \n",
       "3588  ['권한', '다수파', '소수 의견', '행사', '사회 국가', '미풍양속', ...  \n",
       "3634  ['판서', '기출 자료', '기출 모의고사', '빈출 주제', '최종 점검', '...  \n",
       "\n",
       "[114 rows x 3 columns]"
      ]
     },
     "execution_count": 167,
     "metadata": {},
     "output_type": "execute_result"
    }
   ],
   "source": [
    "best[best['상품명'].duplicated(keep=False)]"
   ]
  },
  {
   "cell_type": "code",
   "execution_count": 168,
   "id": "8cdf90a8",
   "metadata": {},
   "outputs": [
    {
     "data": {
      "text/html": [
       "<div>\n",
       "<style scoped>\n",
       "    .dataframe tbody tr th:only-of-type {\n",
       "        vertical-align: middle;\n",
       "    }\n",
       "\n",
       "    .dataframe tbody tr th {\n",
       "        vertical-align: top;\n",
       "    }\n",
       "\n",
       "    .dataframe thead th {\n",
       "        text-align: right;\n",
       "    }\n",
       "</style>\n",
       "<table border=\"1\" class=\"dataframe\">\n",
       "  <thead>\n",
       "    <tr style=\"text-align: right;\">\n",
       "      <th></th>\n",
       "      <th>상품명</th>\n",
       "      <th>책소개</th>\n",
       "      <th>키워드</th>\n",
       "    </tr>\n",
       "  </thead>\n",
       "  <tbody>\n",
       "    <tr>\n",
       "      <th>164</th>\n",
       "      <td>IFRS 회계원리</td>\n",
       "      <td>본서의 특징은 다음과 같다.\\n\\n첫째, 최근까지 개정된 국제회계기준의 내용을 충실...</td>\n",
       "      <td>['재무 보고', '회계 처리', '수험', '금융 상품', '개념 체계', '공인...</td>\n",
       "    </tr>\n",
       "    <tr>\n",
       "      <th>347</th>\n",
       "      <td>IFRS 회계원리</td>\n",
       "      <td>본 서의 6판이 출간된 이후에 중요한 국제회계기준의 개정이 없다가 최근에 금융상품 ...</td>\n",
       "      <td>['계정', '수년', '재무제표 분석', '우발 부채', '후속', '수취 채권'...</td>\n",
       "    </tr>\n",
       "    <tr>\n",
       "      <th>586</th>\n",
       "      <td>IFRS 회계원리</td>\n",
       "      <td>『IFRS 회계원리』는 복식부기에 근거한 기업의 회계처리에 대해서 기계적인 접근법을...</td>\n",
       "      <td>['재무제표 분석', '재무회계', '재무 회계', '상장 기업', '지급 채무',...</td>\n",
       "    </tr>\n",
       "    <tr>\n",
       "      <th>932</th>\n",
       "      <td>IFRS 회계원리</td>\n",
       "      <td>회계원리는 모든 회계의 기초입니다. 본서는 회계에 관한 기본개념들을 설명합니다. 본...</td>\n",
       "      <td>['중급', '지급 채무', '충당 부채', '복식부기', '금융 상품', '무형 ...</td>\n",
       "    </tr>\n",
       "  </tbody>\n",
       "</table>\n",
       "</div>"
      ],
      "text/plain": [
       "           상품명                                                책소개  \\\n",
       "164  IFRS 회계원리  본서의 특징은 다음과 같다.\\n\\n첫째, 최근까지 개정된 국제회계기준의 내용을 충실...   \n",
       "347  IFRS 회계원리  본 서의 6판이 출간된 이후에 중요한 국제회계기준의 개정이 없다가 최근에 금융상품 ...   \n",
       "586  IFRS 회계원리  『IFRS 회계원리』는 복식부기에 근거한 기업의 회계처리에 대해서 기계적인 접근법을...   \n",
       "932  IFRS 회계원리  회계원리는 모든 회계의 기초입니다. 본서는 회계에 관한 기본개념들을 설명합니다. 본...   \n",
       "\n",
       "                                                   키워드  \n",
       "164  ['재무 보고', '회계 처리', '수험', '금융 상품', '개념 체계', '공인...  \n",
       "347  ['계정', '수년', '재무제표 분석', '우발 부채', '후속', '수취 채권'...  \n",
       "586  ['재무제표 분석', '재무회계', '재무 회계', '상장 기업', '지급 채무',...  \n",
       "932  ['중급', '지급 채무', '충당 부채', '복식부기', '금융 상품', '무형 ...  "
      ]
     },
     "execution_count": 168,
     "metadata": {},
     "output_type": "execute_result"
    }
   ],
   "source": [
    "best[best['상품명']=='IFRS 회계원리']"
   ]
  },
  {
   "cell_type": "code",
   "execution_count": null,
   "id": "7af7972b",
   "metadata": {},
   "outputs": [],
   "source": []
  },
  {
   "cell_type": "code",
   "execution_count": 169,
   "id": "6eb4397a",
   "metadata": {},
   "outputs": [],
   "source": [
    "best.to_excel(path + \"/데이터 전처리/베스트셀러_전처리후.xlsx\")"
   ]
  },
  {
   "cell_type": "code",
   "execution_count": null,
   "id": "62d26e77",
   "metadata": {},
   "outputs": [],
   "source": []
  }
 ],
 "metadata": {
  "kernelspec": {
   "display_name": "Python 3 (ipykernel)",
   "language": "python",
   "name": "python3"
  },
  "language_info": {
   "codemirror_mode": {
    "name": "ipython",
    "version": 3
   },
   "file_extension": ".py",
   "mimetype": "text/x-python",
   "name": "python",
   "nbconvert_exporter": "python",
   "pygments_lexer": "ipython3",
   "version": "3.11.4"
  }
 },
 "nbformat": 4,
 "nbformat_minor": 5
}
